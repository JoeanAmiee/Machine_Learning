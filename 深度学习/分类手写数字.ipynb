{
 "metadata": {
  "language_info": {
   "codemirror_mode": {
    "name": "ipython",
    "version": 3
   },
   "file_extension": ".py",
   "mimetype": "text/x-python",
   "name": "python",
   "nbconvert_exporter": "python",
   "pygments_lexer": "ipython3",
   "version": "3.7.9-final"
  },
  "orig_nbformat": 2,
  "kernelspec": {
   "name": "python3",
   "display_name": "Python 3.7.9 64-bit ('Python': conda)",
   "metadata": {
    "interpreter": {
     "hash": "d79bf92d27f0a06faab2c17a27753ea1c73fc2f3b75e8383d94e54a3615baae2"
    }
   }
  }
 },
 "nbformat": 4,
 "nbformat_minor": 2,
 "cells": [
  {
   "source": [
    "**不要轻易运行本程序**\n",
    "\n",
    "我们将在该数据集上训练两个不同的网络：\n",
    "- 一个基于OpenCV的MLP\n",
    "- 一个基于Keras深度神经网络\n",
    "\n",
    "## 加载MNIST数据集"
   ],
   "cell_type": "markdown",
   "metadata": {}
  },
  {
   "cell_type": "code",
   "execution_count": 1,
   "metadata": {},
   "outputs": [
    {
     "output_type": "stream",
     "name": "stdout",
     "text": [
      "Downloading data from https://storage.googleapis.com/tensorflow/tf-keras-datasets/mnist.npz\n",
      "11493376/11490434 [==============================] - 6s 1us/step\n"
     ]
    },
    {
     "output_type": "execute_result",
     "data": {
      "text/plain": [
       "((60000, 28, 28), (60000,))"
      ]
     },
     "metadata": {},
     "execution_count": 1
    }
   ],
   "source": [
    "from keras.datasets import mnist\n",
    "(X_train, y_train), (X_test, y_test) = mnist.load_data()\n",
    "X_train.shape, y_train.shape"
   ]
  },
  {
   "source": [
    "标签是0到9之间的整数值（对应数字0～9）："
   ],
   "cell_type": "markdown",
   "metadata": {}
  },
  {
   "cell_type": "code",
   "execution_count": 2,
   "metadata": {},
   "outputs": [
    {
     "output_type": "execute_result",
     "data": {
      "text/plain": [
       "array([0, 1, 2, 3, 4, 5, 6, 7, 8, 9], dtype=uint8)"
      ]
     },
     "metadata": {},
     "execution_count": 2
    }
   ],
   "source": [
    "import numpy as np\n",
    "np.unique(y_train)"
   ]
  },
  {
   "source": [
    "示例数字："
   ],
   "cell_type": "markdown",
   "metadata": {}
  },
  {
   "cell_type": "code",
   "execution_count": 3,
   "metadata": {},
   "outputs": [
    {
     "output_type": "display_data",
     "data": {
      "text/plain": "<Figure size 1152x432 with 10 Axes>",
      "image/svg+xml": "<?xml version=\"1.0\" encoding=\"utf-8\" standalone=\"no\"?>\r\n<!DOCTYPE svg PUBLIC \"-//W3C//DTD SVG 1.1//EN\"\r\n  \"http://www.w3.org/Graphics/SVG/1.1/DTD/svg11.dtd\">\r\n<!-- Created with matplotlib (https://matplotlib.org/) -->\r\n<svg height=\"340.56pt\" version=\"1.1\" viewBox=\"0 0 901.523511 340.56\" width=\"901.523511pt\" xmlns=\"http://www.w3.org/2000/svg\" xmlns:xlink=\"http://www.w3.org/1999/xlink\">\r\n <metadata>\r\n  <rdf:RDF xmlns:cc=\"http://creativecommons.org/ns#\" xmlns:dc=\"http://purl.org/dc/elements/1.1/\" xmlns:rdf=\"http://www.w3.org/1999/02/22-rdf-syntax-ns#\">\r\n   <cc:Work>\r\n    <dc:type rdf:resource=\"http://purl.org/dc/dcmitype/StillImage\"/>\r\n    <dc:date>2021-03-08T17:14:08.505797</dc:date>\r\n    <dc:format>image/svg+xml</dc:format>\r\n    <dc:creator>\r\n     <cc:Agent>\r\n      <dc:title>Matplotlib v3.3.3, https://matplotlib.org/</dc:title>\r\n     </cc:Agent>\r\n    </dc:creator>\r\n   </cc:Work>\r\n  </rdf:RDF>\r\n </metadata>\r\n <defs>\r\n  <style type=\"text/css\">*{stroke-linecap:butt;stroke-linejoin:round;}</style>\r\n </defs>\r\n <g id=\"figure_1\">\r\n  <g id=\"patch_1\">\r\n   <path d=\"M 0 340.56 \r\nL 901.523511 340.56 \r\nL 901.523511 -0 \r\nL 0 -0 \r\nz\r\n\" style=\"fill:none;\"/>\r\n  </g>\r\n  <g id=\"axes_1\">\r\n   <g clip-path=\"url(#p2491023228)\">\r\n    <image height=\"149\" id=\"imagedc29efba3c\" transform=\"scale(1 -1)translate(0 -149)\" width=\"149\" x=\"7.2\" xlink:href=\"data:image/png;base64,\r\niVBORw0KGgoAAAANSUhEUgAAAJUAAACVCAYAAABRorhPAAAFE0lEQVR4nO3dvUscWxzG8ZO7YhGjBlMoCEHWYkVDCPgGIoYgKIhC3iy2SJtqSao0ASGNIogWooVYCP4Hik2C4EshLIqaFIGAlQRSuhBXiUS95S1+P2G8+6zu6vdTPsyZPcjD4Yy7M3MnhHAeAKF/rnsCuHkoFeQoFeQoFeQoFeQoFeQoFeQoFeQoFeQoFeQoFeQoFeQoFeQoFeQoFeRK8nHS0dFRN//w4UNO5/3+/bvJlpaWTPb37193/Pj4uMkymUxOc4LFSgU5SgU5SgU5SgW5OyEPNz60t7e7ubdRb2trM1ltba16SiGEEI6Ojkw2OTlpspGREZNls9m8zOkmYqWCHKWCHKWCHKWCHKWCXF6u/i6jqqrKZDMzM+6xT548MVk8HldPKWxsbJjM+4onhBA+f/5ssuPjY/mcigkrFeQoFeQoFeQoFeSufaN+GdXV1SZrbGw02dTUlDu+oaFBPqd0Om2ysbExky0sLLjjz87O5HO6bqxUkKNUkKNUkKNUkCuqjXpUNTU1bp5MJk2WSqVMVldXp55S2NracvPh4WGTLS4uyj//KrFSQY5SQY5SQY5SQY5SQe5GXv1dRiKRMJl3Rfjy5Ut3/EVXmlGdnp6abHl52WR9fX05fc5VYqWCHKWCHKWCHKWC3K3fqEf1+PFjN3/9+rXJWltbTdbT0xP5s759+2ay5uZm99hC/D0WKxXkKBXkKBXkKBXk2KhfkT9//rh5SYl9lq/3INze3l53/Orqak7zygdWKshRKshRKshRKshRKsjl5TUit8n9+/dNNjAwYLJYLBb5nOvr6yYrxKu8i7BSQY5SQY5SQY5SQY6NekSPHj1y84mJCZN1d3dHPq/30FzvVvhiwkoFOUoFOUoFOUoFOTbqjhcvXphsbm7OPba8vDzSOT9+/Ojm8/PzJvv161ekcxYqVirIUSrIUSrIUSrIUSrI3fq7aerr6022vb1tskwm445fWVkxmfck4unpaXf8+fnN+/OzUkGOUkGOUkGOUkHuVn1NU1ZWZrLZ2VmT3bt3z2SDg4PuOb98+ZL7xG4YVirIUSrIUSrIUSrI3aqN+qdPn0z29OlTk62trZnMewsDfKxUkKNUkKNUkKNUkCv6jXpFRYXJfv/+7R5bWVkZ6Zzef9kL8c0KhYqVCnKUCnKUCnKUCnKUCnJFdePD8+fPTdbf32+ynZ0dd/zk5GSkz9nd3TVZV1eXe2w2mzVZU1OTyd6/f++Of/v2baQ5FRNWKshRKshRKshRKsgV5Ea9qqrKzdPptMni8Xi+p3PhZ4fg37n87Nkzk52cnLjjo351VExYqSBHqSBHqSBHqSBXkL+nevjwoZs/ePDgimfyn/b29pzGey/gDiGEN2/emOzw8DDyeb2Hzh4cHJjsx48fkc+ZK1YqyFEqyFEqyFEqyFEqyBXk1zQX8a4KS0tLTdbR0eGO7+zsNJn3Yu1Xr15dfnL/08+fP022ublpMu/VJiH4v+f6+vWryYaGhtzx+XjhNysV5CgV5CgV5CgV5Arya5qL7O/vRzpub2/Pzb1368ViMZPl+hunVCplsrt377rHJhIJk717985kF/0eK5lMmqylpcVk3nO4QmCjjiJBqSBHqSBHqSBXVP9RR3FgpYIcpYIcpYIcpYIcpYIcpYIcpYIcpYIcpYIcpYIcpYIcpYIcpYIcpYIcpYIcpYIcpYIcpYIcpYIcpYIcpYIcpYIcpYIcpYIcpYIcpYLcvzXa6Vnxwr+gAAAAAElFTkSuQmCC\" y=\"-6.454545\"/>\r\n   </g>\r\n  </g>\r\n  <g id=\"axes_2\">\r\n   <g clip-path=\"url(#p4276f1b05c)\">\r\n    <image height=\"149\" id=\"image86c5690b07\" transform=\"scale(1 -1)translate(0 -149)\" width=\"149\" x=\"191.917241\" xlink:href=\"data:image/png;base64,\r\niVBORw0KGgoAAAANSUhEUgAAAJUAAACVCAYAAABRorhPAAAFc0lEQVR4nO3dO0gcXRjG8fFDDBKIhZVhCy1svSBeEKNgKXbBRAUtY+MFkygIapVSSMRCBEkhghojGERFBCWQqIUaSG2luYlYeEHQkEuf9x2+3eyju5r/r3yYM3tIHg4zzpzdlCAIfgWA0H+JngBuHkoFOUoFOUoFOUoFOUoFOUoFOUoFOUoFOUoFOUoFOUoFOUoFOUoFOUoFOUoFOUoFOUoFOUoFOUoFudRET8CTlZXl5i0tLSbr7e01WUpKijv+1y+7x2NwcNBkw8PDJtvZ2XHPCYuVCnKUCnKUCnKUCnKUCnIpQYK3vUciEZNNT0+7xxYXF0d1zlju/jyHh4cmm5ycdI/t6OiI6pz/ElYqyFEqyFEqyFEqyCX8Qr2urs5kExMTcZ1zf3/fzY+Pj02Wm5sb12etr6+bbHV11WT9/f1xfc51wkoFOUoFOUoFOUoFuaR8nyrMjx8/TDYyMmKyly9fuuO9v5SXlZWZrKmpyWT5+fnuOcvLy03mPSUIuyHw3ufa2Nhwj70uWKkgR6kgR6kgR6kgR6kgl/C7P+/dp7D3ob59+2ay9vb2uD5/b2/PZGHvc3k6OztN1tfXZ7IHDx64479//24y7v6AP1AqyFEqyFEqyCX8Qt3bjBC2QWF2dvaSZxO758+fm8x7n6qrq8sd39jYaLLbt2+b7P79+38xu8RgpYIcpYIcpYIcpYLctdr44P31OycnRz6ny3Dr1i03975fq6enx2SfP392xz969MhkS0tLMc5Oi5UKcpQKcpQKcpQKcpQKcgl/TBML7w7K+ybjr1+/XsV0YnJ+fu7mz549M1lqqv1v6e7udsc/efLEZO/fvzfZ6enp/01RhpUKcpQKcpQKcpQKcgl/TFNbW2uyV69eucempaWZ7OnTpyZ78eJF3PNKNt6W/yDw3z3zfgalra1NPqcwrFSQo1SQo1SQo1SQS/iFumdtbc3NS0tLTfb27VuTVVdXy+eUaGGbQX7+/Gky79/v3r178jmFYaWCHKWCHKWCHKWCHKWCXFK+T/X48WM3f/funckqKytNVlVV5Y737hSvC+8uLwii/w3Dq8RKBTlKBTlKBTlKBbmkvFD/8OGDmy8sLJispqbGZG/evHHHP3z40GSbm5smS09PN9mnT5/cc8JipYIcpYIcpYIcpYJcUl6oh+3m9TY5nJycmKy+vt4dPzY2ZjJvN7O3a/j169fuOZPR7u5uQj+flQpylApylApylApySbnxIRYFBQUmW1lZcY+9c+dOVOdcXFw0WUNDg3us95pNXl6eyUZHR93xBwcHUc0pbIfy2dlZVHPa3t6O6nMUWKkgR6kgR6kgR6kgR6kgd+3v/jxFRUVuvry8bLKMjIyozhm2aWJubs5kAwMDJvvy5Ys73vt+ruzsbJOF/dbh1NSUycIeU10VVirIUSrIUSrIUSrIJeX7VPHa2tpy8/n5eZOFPX75k7cTOgj8RyLermHvlymCIAgKCwtN1tTUZDJ2KOOfRqkgR6kgR6kgdyMv1MO0tLSYbGRkxGTj4+Mmi0QicX122PtM3k+mhX0Vkufjx49/PafLwkoFOUoFOUoFOUoFOUoFuRv5PlW8SkpKTDYzM+Mee/fuXZN5j0687flBEAQXFxcmy8zMNFlFRYU73rur9M55lVipIEepIEepIEepIMeFepS87fVB4G+xj3Z7fZijoyOTeRfvyYqVCnKUCnKUCnKUCnJcqMfJ2w3d2tpqsubmZne89+W2Q0NDJrvK75eKFysV5CgV5CgV5CgV5CgV5Lj7gxwrFeQoFeQoFeQoFeQoFeQoFeQoFeQoFeQoFeQoFeQoFeQoFeQoFeQoFeQoFeQoFeQoFeQoFeQoFeQoFeR+A+TXOMfKi3fRAAAAAElFTkSuQmCC\" y=\"-6.454545\"/>\r\n   </g>\r\n  </g>\r\n  <g id=\"axes_3\">\r\n   <g clip-path=\"url(#p5c4b2c7bd2)\">\r\n    <image height=\"149\" id=\"image52d3a6e6ec\" transform=\"scale(1 -1)translate(0 -149)\" width=\"149\" x=\"376.634483\" xlink:href=\"data:image/png;base64,\r\niVBORw0KGgoAAAANSUhEUgAAAJUAAACVCAYAAABRorhPAAAETklEQVR4nO3dvyt9cRzH8c/VNz8GyqQwIqUYZGCmGM0MkpDJoEz+DalbBjYWC5vCghj8KL8GCiWLMLDo3u8f8H7fupzXOed27/MxvrvnnjM8ffqc6/7IhBDyARCqSvsCUH6ICnJEBTmighxRQY6oIEdUkCMqyBEV5IgKckQFOaKCHFFBjqggR1SQ+5f2BVSKiYkJd766umpm2WzWzGZmZtSXFBtWKsgRFeSICnJEBTk26gkZGRlx55lMJuEriR8rFeSICnJEBTmighxRQY67v5Tl8+X3rQOsVJAjKsgRFeSICnJs1EvQ4eFh2pcQCSsV5IgKckQFOaKCHBv1lHnvp8rlcilciQ4rFeSICnJEBTmighxRQY67v5R576e6u7tL4Up0WKkgR1SQIyrIERXkiApyRAU5ooIcUUGOqCDHK+olaHR01MyOjo5SuJK/YaWCHFFBjqggR1SQIyrIZUII8i9IWlxcdOcDAwPqU7m2trbc+fX1tZkldVc1PT3tzldWVszs/v7ezNra2uTXFBdWKsgRFeSICnJEBbnIG/Xl5WUzK/TbdO/v72b2+PgY5fShu7vbzAr9NMfPz4+ZfX19mdnV1ZWZHR8fu895enpqZvv7+2b2+vrqHv/8/GxmjY2NZlZdXe0eX4pYqSBHVJAjKsgRFeQiv5+qrq7OzAptlGdnZ81sc3Mz0vl7enqKPv/g4KCZtba2mpm3KZ6cnHSfc2pqysy+v7/NrNBGv7a21syqquzfemdnp3v8zc2NO08TKxXkiApyRAU5ooIcUUEu0U/TvL29yZ/z/Py86MeenZ39+Txzc3PuvKGhwcyGh4fNbHx83D2+pqbGzLy7v97eXvd47v5QEYgKckQFOaKCXKIb9b6+PjPb3d1N8hLkPj8/zWxjY6OoWQghrK+vm9nY2JiZLS0tucdvb2+bmfe+tSSxUkGOqCBHVJAjKshF3qjf3t4W/diurq6opys7CwsLZua976ujo8M9vr6+3szYqKPsEBXkiApyRAW5yBv1nZ0dMyv06i8s75PLDw8PZtbU1OQe39LSYmZPT0/RLywCVirIERXkiApyRAU5ooJc5Lu/i4sLMyv0XUwozsfHR9GPHRoaMrO0f3KElQpyRAU5ooIcUUEulg8+5HK5OJ62YnjfeVXoXy/t7e1xX86vsVJBjqggR1SQIyrIxbJRX1tbc+eluKksRS8vL2aWzWbdx/b395uZ96WzSX7lECsV5IgKckQFOaKCHFFBLpa7v729PXd+eXkZx+nKjvdvLu8TNiGE0NzcbGb5vPy31n+FlQpyRAU5ooIcUUEulo36wcFBHE9b0U5OTtz5/Px8shdSBFYqyBEV5IgKckQFuUwIId2XX1F2WKkgR1SQIyrIERXkiApyRAU5ooIcUUGOqCBHVJAjKsgRFeSICnJEBTmighxRQY6oIEdUkCMqyBEV5IgKckQFOaKCHFFBjqggR1SQ+w86fcCkmYXfKAAAAABJRU5ErkJggg==\" y=\"-6.454545\"/>\r\n   </g>\r\n  </g>\r\n  <g id=\"axes_4\">\r\n   <g clip-path=\"url(#p598aab0fec)\">\r\n    <image height=\"149\" id=\"imageea2022e289\" transform=\"scale(1 -1)translate(0 -149)\" width=\"149\" x=\"561.351724\" xlink:href=\"data:image/png;base64,\r\niVBORw0KGgoAAAANSUhEUgAAAJUAAACVCAYAAABRorhPAAAEAklEQVR4nO3dvy+zXRyA8VN5B4lBJBINIiIGg8EsXYRFYiNs4tfgj2giWG0Gg4FYMBjMBmLyJzAI3TCRGLrwvPObc573uZv76lNtr8/4Te87Z7icnKZ1txBC+BUkUEejF6DWY1TCGZVwRiWcUQlnVMIZlXBGJZxRCWdUwhmVcEYlnFEJZ1TCGZVw/zR6AbUoFovR7Pz8PJqVSqXk9U9PT9FsdHQ0/8L0H+5UwhmVcEYlnFEJ11QH9bGxsWg2OTnZgJXo/7hTCWdUwhmVcEYlnFEJZ1TCGZVwRiWcUQlnVMI11cc07+/v0ezl5SWa9ff3J68fGBiIZnt7e9GsXC5Hs2q1mmGFCsGdSnVgVMIZlXBGJVwhNPmDZI+OjqLZyspK8rXf39+Z7jkyMhLNKpVKTetqZ+5UwhmVcEYlnFEJZ1TCNf27v5Svr6/kPOu7v+Xl5Wh2enqaa03txJ1KOKMSzqiEMyrhWvKg/vb2lpz39PRkuv7u7i6azc7OJl/7+fmZfWFtwp1KOKMSzqiEMyrhWvKgPjExkZxfXFxEs6GhoUz3vLy8TM4XFhYyr6tduFMJZ1TCGZVwRiWcUQnXku/+fufg4CCabWxs5Lrn+Ph4NHt4eMh1z2bnTiWcUQlnVMIZlXBtdVAfHh6OZo+Pj7nueXJyEs1WV1dz3bPZuVMJZ1TCGZVwRiVcUz1INq/n5+doNj8/H82Oj4+jWVdXV/KeqWdZ9fX1RbPX19c/L7BFuFMJZ1TCGZVwRiWcUQnXVh/TZLW5uRnN9vf3k6/t6Ij/Lq+urqLZ0tJS8vqPj48aV/fzuVMJZ1TCGZVwRiWcB/WE1PeuUv8yH0L6X+xTD6zd3d1NXr+zs1PT2pqBO5VwRiWcUQlnVMJ5UM+ot7c3OU99Typ1UE/9qHgIISwuLkaz6+vr2hb3w7hTCWdUwhmVcEYlnAf1nA4PD6PZ2tpa5utvbm6i2fT0dJ4lNZw7lXBGJZxRCWdUwhmVcL77y6lUKkWz1I94F4vFzPdcX1+PZqnnYP1U7lTCGZVwRiWcUQnnQb0OZmZmotnZ2Vnytd3d3dHs/v4+ms3NzSWvT32fq1qt/mmJdeVOJZxRCWdUwhmVcB7U/5Ktra3kvFwuZ7o+9ciiEEKYmpqKZre3t9kXVgfuVMIZlXBGJZxRCWdUwrXVz4g0UqVSSc5TH6l0dnbWezl15U4lnFEJZ1TCGZVwHtT/ktRvCIYQwuDgYDTb3t6OZr/7mKZQKORaVz24UwlnVMIZlXBGJZzfpxLOnUo4oxLOqIQzKuGMSjijEs6ohDMq4YxKOKMSzqiEMyrhjEo4oxLOqIQzKuGMSjijEs6ohDMq4YxKOKMSzqiEMyrhjEo4oxLuX3qVnskUk4taAAAAAElFTkSuQmCC\" y=\"-6.454545\"/>\r\n   </g>\r\n  </g>\r\n  <g id=\"axes_5\">\r\n   <g clip-path=\"url(#pbb62c62627)\">\r\n    <image height=\"149\" id=\"imagee9e46619a6\" transform=\"scale(1 -1)translate(0 -149)\" width=\"149\" x=\"746.068966\" xlink:href=\"data:image/png;base64,\r\niVBORw0KGgoAAAANSUhEUgAAAJUAAACVCAYAAABRorhPAAAEuklEQVR4nO3dwStsbxzH8WckJEliYUlmg2woG7IRKxILlAV29kpJKOxspKwsLEiNKLHBBlnwDyChLNjYqYkU7vJXv+936tw7n+7MXO/X8tN5Zh71uU/PuWfOObEQwncAhPIyPQH8eygV5CgV5CgV5PIzPYFcV1paarLFxUWTjY+Pu+MbGxtNdnV1lf7EMoiVCnKUCnKUCnKUCnKUCnKc/UXkneWFEEIikTBZR0eHyXZ3d93xj4+P6U0sC7FSQY5SQY5SQY5SQY6NekR9fX1u7m3KT09PTTY3N+eOTyaTac0rG7FSQY5SQY5SQY5SQS4WuPEhktvbWzevqakxWWtrq8kuLi7kc8pWrFSQo1SQo1SQo1SQo1SQ4zKNo6GhwWTxeNw99uvry2T39/fyOeUSVirIUSrIUSrIUSrIsVF3tLW1mczbkIcQwvc3V7n+j5UKcpQKcpQKcpQKcmzUHQ8PD5meQk5jpYIcpYIcpYIcpYIcpYIcd9NE9Pn56ebeZZqqqiqTvby8yOeUrVipIEepIEepIEepIMdlGkdXV1emp5DTWKkgR6kgR6kgR6kgx0bd8fb2ZrK8PP/fn3dDxODgoMlWVlbSn1iOYKWCHKWCHKWCHKWCHKWCXFae/bW0tLj5wcGBycrLy012d3fnjt/b2zPZ+vq6ybwnEXuvBgnBfxKx98Tin4SVCnKUCnKUCnKUCnIZv/GhrKzMZNfX1+6xlZWVJovFYiZL95lRz8/Pkb4nhOg3OXjH/atYqSBHqSBHqSBHqSCX8f9RLygoMJm3IU+lurraZO/v7+6xo6OjJuvp6TGZ98aHkpIS9zO9k4KKigqTdXd3u+P39/fdPJexUkGOUkGOUkGOUkGOUkEuKy/T3NzcuMd6Z1Xeb6x6e3vTmlNtba3JNjc33WObmpoifebOzo6bj42NmSyZTEb6zGzFSgU5SgU5SgU5SgW5jG/UPTMzM24+Oztrso+PD5MdHh6644eGhkzm3eLuKSoqcvPOzk6TbW1tRR6/sLBgMu/vzCWsVJCjVJCjVJCjVJDLyo16KvPz8yabmpoyWaobH1ZXV002PT1tstfX1z+Y3X+8Gzfi8Xjk8f39/Sbz7q7OVqxUkKNUkKNUkKNUkMupjbpnZGTEZGtra5HHHx8fm2xgYMBkv7N5Hx4eNpn3yKJUnp6eTNbc3Owem42vfGOlghylghylghylghylglzOn/3l59s791OdKR0dHZmsuLjYZGdnZybzLhGFEML5+bnJCgsLTZZIJNzx3u+xvGdhTU5OuuOXlpbcPJNYqSBHqSBHqSBHqSCX8xv13+FdflleXjaZdyd0qgfJnpycmMx7vlZdXV2EGab+ru3tbfdY792CmcZKBTlKBTlKBTlKBbkftVH3eK+B834P1d7e7o6vr6+P9D0TExNu7r1dwnvd28bGhjv+8vIy0vf/TaxUkKNUkKNUkKNUkKNUkPvxZ3/QY6WCHKWCHKWCHKWCHKWCHKWCHKWCHKWCHKWCHKWCHKWCHKWCHKWCHKWCHKWCHKWCHKWCHKWCHKWCHKWCHKWCHKWCHKWCHKWCHKWCHKWCHKWCHKWCHKWCHKWCHKWCHKWCHKWCHKWCHKWCHKWC3C/zENxmIr1kjAAAAABJRU5ErkJggg==\" y=\"-6.454545\"/>\r\n   </g>\r\n  </g>\r\n  <g id=\"axes_6\">\r\n   <g clip-path=\"url(#p5f0cb1a956)\">\r\n    <image height=\"149\" id=\"image420ecd0625\" transform=\"scale(1 -1)translate(0 -149)\" width=\"149\" x=\"7.2\" xlink:href=\"data:image/png;base64,\r\niVBORw0KGgoAAAANSUhEUgAAAJUAAACVCAYAAABRorhPAAAFa0lEQVR4nO3dP0hWbRzG8WOmYGqD4KCTkYOKDoXgn0kh0BL8M4mKhIvgIgmJDoIpiOggSNES2RpE5lSgkSBag4NuOiSIgqIGBWKiqO87vEPw/n4PnXyuHv99P+PFuc9zhsub+/g89zlxQRD8EwBC1876AnD5UCrIUSrIUSrIUSrIUSrIUSrIUSrIUSrIUSrIUSrIUSrIUSrIUSrIUSrIUSrIUSrIUSrIUSrIUSrIUSrIUSrIUSrIUSrIUSrIUSrIXY/lh6WmppqstrbWZHfv3nXHb29vm2xsbMxk379/d8cfHh7+5gqhwEwFOUoFOUoFOUoFubgghs+nWlhYMFlBQYH8c96/f+/mMzMzJpuYmDDZ6uqqyY6OjqK9rCuDmQpylApylApylApyMV2ob25umiw9Pd1kBwcH7vjl5WWTJScnmyw7O/sUV/fLkydPTDY4OOgee3x8HNVnXUbMVJCjVJCjVJCjVJCjVJCL6d1fW1ubyZ4+fWqynz9/uuNbW1tNNjk5abKioiJ3fEtLi8nu379vsqSkJJP19/e753z16pXJ1tfX3WP/hoaGBpM1NjaGHt/R0WGyr1+/RnVNzFSQo1SQo1SQo1SQi+lCPT4+3mQDAwMme/z4sTt+b2/PZN3d3SZ7/fq1O97bEFFYWGiyZ8+ehTouCPxFrXdDMj097Y6/efOmyUpLS03W1NTkjq+urjaZ99VVJN5Nxa1bt0KP9zBTQY5SQY5SQY5SQS6mC3VPQkKCySL997qzszPUOT98+ODmzc3NJvvx44fJvN94RdpM4e2m9nZCDw8Pu+Pz8/NNVlNT4x7r+fjxo8mGhoZMFmnXtmdxcTH0sR5mKshRKshRKshRKshRKsid+d2fJzEx0c0rKytNNj4+Hvq8fX19Jvv06ZPJ5ubmTJaWluae0xvv3dFFK9LXNN62/Ui7kWKFmQpylApylApylApy53KhHon3lc6dO3dM9vbtW3d8RkaGyfb3903mfXXz5csX95zezcONGzfcYz07OzsmGxkZMdno6Kg7/jw+HJeZCnKUCnKUCnKUCnIXaqEeVqSFcl5ensl6e3tN9uDBg9Cfde2a/bs8OTkJPX5jY8NkZWVlJltZWQl9zrPGTAU5SgU5SgU5SgU5SgW5S3n3F6329naT/clWck9dXZ2be7txPn/+bLLy8nJ3/Hl8OjIzFeQoFeQoFeQoFeRYqMfIy5cv3fzhw4ehxntf3QRBEMzOzp72kv4aZirIUSrIUSrIUSrIXT/rC4hWZmamybw3QwSB/3YI70Gw29vb0V/Y/0TaOBF2oX6RMFNBjlJBjlJBjlJB7sIv1F+8eGGyiooK99ienh6Tra6ummx+ft5kXV1d7jnX1tZ+c4X/2draCnXcZcBMBTlKBTlKBTlKBTlKBbkLf/f35s0bk0W6+/NkZWWFyrwNCkEQBPfu3TOZ9w69paWl0Nd00TFTQY5SQY5SQY5SQe7CL9TfvXtnsuLiYvfY+vp6k6Wmpob6nNu3b7v51NSUyf7kRuEyYqaCHKWCHKWCHKWC3JXaoZyTk2OyR48emcx7DVpSUpJ7zri4OJN5/1Hf3d11x+fm5prs27dvJou0Q3l5ednNzxIzFeQoFeQoFeQoFeQoFeSu1N1fWN7vqSLtpikpKTFZtC/mfv78ucm8h9ueV8xUkKNUkKNUkKNUkGOhHiXv91gpKSkmq6qqcsenp6ebzHsx98HBwSmu7mwwU0GOUkGOUkGOUkGOhTrkmKkgR6kgR6kgR6kgR6kgR6kgR6kgR6kgR6kgR6kgR6kgR6kgR6kgR6kgR6kgR6kgR6kgR6kgR6kgR6kgR6kgR6kgR6kgR6kgR6kgR6kg9y/boBLvFGnfygAAAABJRU5ErkJggg==\" y=\"-184.36\"/>\r\n   </g>\r\n  </g>\r\n  <g id=\"axes_7\">\r\n   <g clip-path=\"url(#pa2c21bb3f7)\">\r\n    <image height=\"149\" id=\"image5aaa77ec60\" transform=\"scale(1 -1)translate(0 -149)\" width=\"149\" x=\"191.917241\" xlink:href=\"data:image/png;base64,\r\niVBORw0KGgoAAAANSUhEUgAAAJUAAACVCAYAAABRorhPAAADB0lEQVR4nO3dP0pjURjG4Ruxs05jE0kR/AMuwbVY2ekOhGzBPdhaxRXYWglB0gTUFVjZqdPPOYEreTHm3ucpP8ZwBn7zce7EkEHTNN8NBO1s+gB0j6iIExVxoiJOVMSJijhREScq4kRFnKiIExVxoiJOVMSJijhREScq4kRFnKiIExVxoiJud9MH2Baj0ag6v7+/L2ZHR0fFbDAYVH9+MpkUs+Vy+cPT/S02FXGiIk5UxImKOFER5+mvpePj4+q89qTXdzYVcaIiTlTEiYo4F/WWLi4uNn2ErWFTEScq4kRFnKiIc1Fv6eTkpDpf9XtS/9vZ6c+/3/78Tfk1oiJOVMSJijhREefpr+Ly8rKYjcfj6p/9/m73LSw3NzfV+bZ/cqbGpiJOVMSJijhREeeiXnF4eLjpI2w1m4o4UREnKuJERdyg8cXchc/Pz2LW9n/OVzk9Pa3On5+f13rdv8imIk5UxImKOFERJyrivE1TUfvky9fXV+ufv7u7K2ZdfMpbxaYiTlTEiYo4URHnol5Ru5T/5G2ah4eH5HG2jk1FnKiIExVxoiJOVMSJijhREScq4kRFnKiIExVxoiJOVMSJijhREef3qSrW/eBD39lUxImKOFERJyriXNQr1v3gQ9/ZVMSJijhREScq4np/Ub++vt70ETrHpiJOVMSJijhREScq4nr19Le/v1/Mzs/P13rN6XRazGaz2Vqvue1sKuJERZyoiBMVcb26qH98fBSzt7e3YnZwcND6NR8fH4vZ6+vrj87VNTYVcaIiTlTEiYq4Xl3U39/fi9nT01MxOzs7+4XTdJdNRZyoiBMVcaIiTlTE9erpb29vr5iNRqMNnKTbbCriREWcqIgTFXG9uqgPh8Ni5i2ZPJuKOFERJyriREVcry7qLy8vxez29raYXV1dFbP5fF59zcVisfa5usamIk5UxImKOFERJyriBk3T+H4Momwq4kRFnKiIExVxoiJOVMSJijhREScq4kRFnKiIExVxoiJOVMSJijhREScq4kRFnKiIExVx/wBSC1vdAmrX2AAAAABJRU5ErkJggg==\" y=\"-184.36\"/>\r\n   </g>\r\n  </g>\r\n  <g id=\"axes_8\">\r\n   <g clip-path=\"url(#pe5474e1b5a)\">\r\n    <image height=\"149\" id=\"image737ca60700\" transform=\"scale(1 -1)translate(0 -149)\" width=\"149\" x=\"376.634483\" xlink:href=\"data:image/png;base64,\r\niVBORw0KGgoAAAANSUhEUgAAAJUAAACVCAYAAABRorhPAAAE+0lEQVR4nO3dPUgcWxjG8dmgrAoWphAi4gdKKotgYRH8aFyLFHaCoKIglktSGuxCehFBQRBBRGwEF9EgFhZqL2hjYaXFKqKgRBNFk+IWF+77erM6z8665v8rH+bMHOHxMKO7Z2JBEPwKAKFXuZ4AXh5KBTlKBTlKBTlKBTlKBTlKBTlKBTlKBTlKBTlKBTlKBTlKBTlKBTlKBbmCXE8gHo+bbGBgwD3269evJisrKzPZ0tKSO359fd1kqVTKZOl02h2PzLBSQY5SQY5SQY5SQS4WRPjFh3fv3pksmUyarL+/P4LZ/OPg4MBkV1dXJtvc3HTHT01NmWxvby/8xPIYKxXkKBXkKBXkKBXkKBXkIn3629nZMVlDQ0NUlw8lFou5+fHxscmWl5dN9vHjR3f8jx8/wk3sGWKlghylghylghylglzOP0/1GJOTkya7vLyUXyeRSJissbHRPba8vNxkg4ODJqurq3PHez/T4uLin6b4rLFSQY5SQY5SQY5SQS7Sv6g3NzebbGRkxGTejXIQBEFtba3JDg8Pw0/sP16/fm2yDx8+uMeOj4+brLS0NONrXV9fm6yzs9NkGxsbGZ8z11ipIEepIEepIEepIEepIBfpv2m2trZM5j3pdHR0uONPT0/lc/KcnZ2ZbG5uzj22sLDQZGNjYyYrKSlxxxcXF5usqKjoT1N81lipIEepIEepIEepIJfzz1Pd3t6abGVlJQczeZqZmRmTff/+3WTz8/NRTOdZYKWCHKWCHKWCHKWCXM5v1F+itbW1XE8hp1ipIEepIEepIEepIEepIJf3T3/V1dUm6+3tdY/1nsqysT+U97X3vwkrFeQoFeQoFeQoFeTy6kbd23TW27S1qqrKHf/ly5cnX/vVK//37/7+/snnfKlYqSBHqSBHqSBHqSCXVzfqnl+/7PZaXhbWQzfkYa/lfcnj27dvoc6Za6xUkKNUkKNUkKNUkKNUkIt0d+JsqKmpMVlfX597bHt7+5Ov4+2sHAThn/4uLi5MNjw8bLLV1VV3/NHRUajrZwMrFeQoFeQoFeQoFeTy/kY9Kj09PW7u3VTX19ebzNtw9jG8l5oHQRC0tLSYzHs1SZRYqSBHqSBHqSBHqSDHjXoWdHd3m2xoaMg9tq2tLdS1vHcTen+ljxIrFeQoFeQoFeQoFeTy/osPz9HCwoLJ7u7u3GObmppM5r2u7SHet64/ffqU8fhsYKWCHKWCHKWCHKWCHKWCXN4//RUU2B/hzZs3GY/33jeYTqdDzcnz0KtFzs/PTfaYp7/KykqTxeNxk/38+TPjc4bFSgU5SgU5SgU5SgW5vP88VTKZNNno6GjG409OTkw2PT1tsrAbyb5//97Nw36eKtNzbm9vy6/zEFYqyFEqyFEqyFEqyOX9X9QTiUSo8eXl5Sb7/PmzyWKxmDs+G5vW5jtWKshRKshRKshRKshRKsjl/dOf96S2v7/vHtvV1WUy798vFRUV4ScWkdnZWZPt7u7mYCb/YqWCHKWCHKWCHKWCXN5/nuox3r59azJvg9fW1laTTUxMuOeM6sXcqVTKzb29sG5ubrI9nf/FSgU5SgU5SgU5SgW5v+pGHdFgpYIcpYIcpYIcpYIcpYIcpYIcpYIcpYIcpYIcpYIcpYIcpYIcpYIcpYIcpYIcpYIcpYIcpYIcpYIcpYIcpYIcpYIcpYIcpYIcpYIcpYLcbxj55rzMn5qEAAAAAElFTkSuQmCC\" y=\"-184.36\"/>\r\n   </g>\r\n  </g>\r\n  <g id=\"axes_9\">\r\n   <g clip-path=\"url(#p717ed53846)\">\r\n    <image height=\"149\" id=\"image1529132687\" transform=\"scale(1 -1)translate(0 -149)\" width=\"149\" x=\"561.351724\" xlink:href=\"data:image/png;base64,\r\niVBORw0KGgoAAAANSUhEUgAAAJUAAACVCAYAAABRorhPAAAC40lEQVR4nO3dMS50bRiA4TNfRKLCBtQsgsQG2IfCMtRKSxAd61CLRqHTKKiIwr+Ac4r5M/f3zTDXVT4heSN3nrzHiDMbhuF7gNCfZR+A30dU5ERFTlTkREVOVORERU5U5ERFTlTkREVOVORERU5U5ERFbmPZB/gprq+vJ+cHBwej2cnJyWj2/Pycn2lV2VTkREVOVORERc5FfU5HR0eT893d3dFsa2vrbx9npdlU5ERFTlTkREVOVOQ8/c3p5uZmcn5+fj6aTX108/j4mJ9pVdlU5ERFTlTkREXORX1B7+/vo9nt7e0STrI6bCpyoiInKnKiIueivqDZbDaabW5ujmYfHx//4jgrwaYiJypyoiInKnKiIjcbvEZkLg8PD5Pz/f390ezq6mo0Ozs7y8+0qmwqcqIiJypyoiLnY5oJp6eno9nUhXwYpj9+uby8rI/0o9hU5ERFTlTkREXORX3Cxsb8P5bv7/EHEp+fn+VxfhybipyoyImKnKjIiYqcp78Je3t7c3/t19fXaLZOrwyZYlORExU5UZETFTkX9QnHx8fLPsKPZlORExU5UZETFTkX9QXd3d0t+wgrx6YiJypyoiInKnKiIufpb0Gvr6/LPsLKsanIiYqcqMiJipyoyImKnKjIiYqcqMit/W/Ud3Z2RrPDw8N/f5BfxKYiJypyoiInKnJrf1Gf+qex29vbc3//09NTeZxfwaYiJypyoiInKnKiIrf2T3+Lur+/X/YRVo5NRU5U5ERFTlTkXNTnNJvNJudTL+ZedzYVOVGRExU5UZFzUZ/T1Au4mWZTkRMVOVGRExU5UZHz9Denl5eX/zVfZzYVOVGRExU5UZFb+4v629vbaDb1Yu6Li4vJ73dRH7OpyImKnKjIiYrcbBgGfyhEyqYiJypyoiInKnKiIicqcqIiJypyoiInKnKiIicqcqIiJypyoiInKnKiIicqcqIiJypyoiInKnKiIicqcqIiJypy/wGgl1BUKpMN9wAAAABJRU5ErkJggg==\" y=\"-184.36\"/>\r\n   </g>\r\n  </g>\r\n  <g id=\"axes_10\">\r\n   <g clip-path=\"url(#p1c53b56287)\">\r\n    <image height=\"149\" id=\"imagebae3675fed\" transform=\"scale(1 -1)translate(0 -149)\" width=\"149\" x=\"746.068966\" xlink:href=\"data:image/png;base64,\r\niVBORw0KGgoAAAANSUhEUgAAAJUAAACVCAYAAABRorhPAAAE/ElEQVR4nO3dTShlfxzH8Z+HUiRlJyEpC0ksNCkhUrOzMiIpbGQWk5rFyMLCw46NlTKNhUxZeNgbT6uZSJSFBQuRpjRoVoqY/f/7vXX/nY/ch/dr+emce35Nn/n1O8753ZsRQngJgFDmWw8AqYdSQY5SQY5SQY5SQY5SQY5SQY5SQY5SQY5SQY5SQY5SQY5SQY5SQY5SQY5SQY5SQY5SQY5SQY5SQS77rQfwGkZHR918YmLCZJ2dnSZbW1uTjymdMFNBjlJBjlJBjlJBjlJBLiXv/vr7++M+tqOjw2Tc/UXDTAU5SgU5SgU5SgW5jJCC309VVlbm5ltbWyYrLS012fT0tMnGx8ejDyxNMFNBjlJBjlJBjlJBLiUX6rF471l571jd3NyYrL6+3v3Mq6ur6ANLMcxUkKNUkKNUkKNUkKNUkEuru7+CggKTTU5Ommx4eNhk5+fn7mdWVlZGH1iKYaaCHKWCHKWCHKWC3Jsv1D99+mSy1dVV99jLy0v59Zuamky2sbFhsvz8fPf8np4ek52cnMR9fe8xz9+/f+M+PxExU0GOUkGOUkGOUkHuzRfq3maEWBsXvL9+f/v2LdL1q6qqTDY/P2+yhoYG9/yMjAyTvbzE/0+6vLxssr6+vrjPT0TMVJCjVJCjVJCjVJCjVJB787u/rq4uky0tLbnHPj09mez+/t5k3qOTEEK4u7sz2czMjMmam5vd8z3x3v3FuiP8/fu3yVpaWkwW632uRMRMBTlKBTlKBTlKBbk3X6h7ent73XxxcTGu873FcwghnJ2dmayioiKuzzw4OHDz4uJikxUVFZnM20of69hkx0wFOUoFOUoFOUoFuYRcqGdn+z9E4S3gv379arLMTP//yvPzs8n29/dN5m18mJ2ddT+zsLDQZOvr6yarq6tzz/eeHgwMDLjHJgtmKshRKshRKshRKshRKsgl5N3f/1FdXW2yWL/XV15ebrK5uTmTjYyMRBrT58+fTTY1NeUem5WVZbKPHz+azNvhk6iYqSBHqSBHqSBHqSCX9At1T0lJiZt7j2S8L5d9//69yXZ3dyONKdZCe3Bw0GTX19cm836XMFExU0GOUkGOUkGOUkEuJRfqsXi/7fflyxeTnZ6emqy1tdX9zFgbGv4rLy/PzRcWFkzW2dlpsl+/frnne7uZHx8f4xrTa2GmghylghylghylglxaLdQ9h4eHJqupqTGZ91f2EELY3NyMdP3a2lqT7e3tmSzWQt/bDPL9+/dIY4qKmQpylApylApylApylApy/v7yNJKbm2sy7/utHh4eXuX6R0dHJru4uDCZt8EjhNcbVxTMVJCjVJCjVJCjVJBL+8c03g9zj42Nmay7u9s9//b2Vj4m71reTuoQQvjz54/JPnz4YLLj4+PoA4sTMxXkKBXkKBXkKBXk0n6hnix2dnbcvLGx0WTb29sma29vVw8pJmYqyFEqyFEqyFEqyFEqyKX9+1TJ4ufPn27+7t27uDLv0U0IIaysrEQbmIOZCnKUCnKUCnKUCnIs1JOE9z1aIYSQk5NjsqGhIZO1tbW557NQR1KgVJCjVJCjVJDjfaoU9OPHD5N5u65DiP0FuVEwU0GOUkGOUkGOUkGOUkGOuz/IMVNBjlJBjlJBjlJBjlJBjlJBjlJBjlJBjlJBjlJBjlJBjlJBjlJBjlJBjlJBjlJBjlJBjlJBjlJBjlJB7h/vOPDWeA1TYQAAAABJRU5ErkJggg==\" y=\"-184.36\"/>\r\n   </g>\r\n  </g>\r\n </g>\r\n <defs>\r\n  <clipPath id=\"p2491023228\">\r\n   <rect height=\"148.254545\" width=\"148.254545\" x=\"7.2\" y=\"7.2\"/>\r\n  </clipPath>\r\n  <clipPath id=\"p4276f1b05c\">\r\n   <rect height=\"148.254545\" width=\"148.254545\" x=\"191.917241\" y=\"7.2\"/>\r\n  </clipPath>\r\n  <clipPath id=\"p5c4b2c7bd2\">\r\n   <rect height=\"148.254545\" width=\"148.254545\" x=\"376.634483\" y=\"7.2\"/>\r\n  </clipPath>\r\n  <clipPath id=\"p598aab0fec\">\r\n   <rect height=\"148.254545\" width=\"148.254545\" x=\"561.351724\" y=\"7.2\"/>\r\n  </clipPath>\r\n  <clipPath id=\"pbb62c62627\">\r\n   <rect height=\"148.254545\" width=\"148.254545\" x=\"746.068966\" y=\"7.2\"/>\r\n  </clipPath>\r\n  <clipPath id=\"p5f0cb1a956\">\r\n   <rect height=\"148.254545\" width=\"148.254545\" x=\"7.2\" y=\"185.105455\"/>\r\n  </clipPath>\r\n  <clipPath id=\"pa2c21bb3f7\">\r\n   <rect height=\"148.254545\" width=\"148.254545\" x=\"191.917241\" y=\"185.105455\"/>\r\n  </clipPath>\r\n  <clipPath id=\"pe5474e1b5a\">\r\n   <rect height=\"148.254545\" width=\"148.254545\" x=\"376.634483\" y=\"185.105455\"/>\r\n  </clipPath>\r\n  <clipPath id=\"p717ed53846\">\r\n   <rect height=\"148.254545\" width=\"148.254545\" x=\"561.351724\" y=\"185.105455\"/>\r\n  </clipPath>\r\n  <clipPath id=\"p1c53b56287\">\r\n   <rect height=\"148.254545\" width=\"148.254545\" x=\"746.068966\" y=\"185.105455\"/>\r\n  </clipPath>\r\n </defs>\r\n</svg>\r\n",
      "image/png": "[encoded data removed]"
     },
     "metadata": {
      "needs_background": "light"
     }
    }
   ],
   "source": [
    "import matplotlib.pyplot as plt\n",
    "%matplotlib inline\n",
    "plt.figure(figsize=(16, 6))\n",
    "for i in range(10):\n",
    "    plt.subplot(2, 5, i + 1)\n",
    "    plt.imshow(X_train[i, :, :], cmap='gray')\n",
    "    plt.axis('off')\n",
    "plt.savefig('mnist-examples.png')"
   ]
  },
  {
   "source": [
    "## 预处理MNIST数据集\n",
    "\n",
    "居中：重要的是，图像中所有的数字都是居中的。例如，看一下图9-15中的数字“1”的所有示例图像，它们几乎都是垂直笔画的。如果不对齐图像，那么笔画会出现在图像中的任何位置，使得神经网络很难发现训练样本的共性。幸运的是，MNIST中的图像都已经居中了。\n",
    "\n",
    "缩放：同样的道理也适用于缩放数字，以使数字具有相同的大小。这样，笔画、曲线以及环的位置都很重要。否则，神经网络很容易混淆8和0，因为它们都是由一个或者两个闭环组成的。幸运的是，MNIST中的图像都已经被缩放了。\n",
    "\n",
    "类别特征的表示：重要的是目标标签是独热编码，这样我们可以在输出层有10个神经元对应于0到9的10个不同的类。这一步我们还得自己完成。"
   ],
   "cell_type": "markdown",
   "metadata": {}
  },
  {
   "cell_type": "code",
   "execution_count": 4,
   "metadata": {},
   "outputs": [],
   "source": [
    "from sklearn.preprocessing import OneHotEncoder\n",
    "enc = OneHotEncoder(sparse=False, dtype=np.float32,categories='auto')\n",
    "y_train_pre = enc.fit_transform(y_train.reshape(-1, 1))\n",
    "y_test_pre = enc.fit_transform(y_test.reshape(-1, 1))"
   ]
  },
  {
   "source": [
    "为了使用OpenCV，我们需要预处理X_train和X_test。当前，X_train和X_test是整数值在0到255之间的三维矩阵<n_samples x 28 x 28>。最好是浮点数的一个二维矩阵<n_samples x n_features>，其中n_features是784，它基本上是将28×28的图像展开成一个784维的向量："
   ],
   "cell_type": "markdown",
   "metadata": {}
  },
  {
   "cell_type": "code",
   "execution_count": 5,
   "metadata": {},
   "outputs": [],
   "source": [
    "X_train_pre = X_train.astype(np.float32) / 255.0\n",
    "X_train_pre = X_train_pre.reshape((X_train.shape[0], -1))\n",
    "X_test_pre = X_test.astype(np.float32) / 255.0\n",
    "X_test_pre = X_test_pre.reshape((X_test.shape[0], -1))"
   ]
  },
  {
   "source": [
    "## 使用OpenCV训练一个多层感知器"
   ],
   "cell_type": "markdown",
   "metadata": {}
  },
  {
   "cell_type": "code",
   "execution_count": 6,
   "metadata": {},
   "outputs": [
    {
     "output_type": "execute_result",
     "data": {
      "text/plain": [
       "0.8539166666666667"
      ]
     },
     "metadata": {},
     "execution_count": 6
    }
   ],
   "source": [
    "import cv2\n",
    "mlp = cv2.ml.ANN_MLP_create()\n",
    "\n",
    "# 指定网络中每一层的大小。我们可以随意添加任意个层，但是需要确保第一层的神经元数量和输入特征的数量相同（在我们的例子中是784），最后一层的神经元数与类标签相同（在我们的例子中是10），有两个隐藏层，每个隐藏层有512个节点：\n",
    "mlp.setLayerSizes(np.array([784, 512, 512, 10]))\n",
    "\n",
    "# 指定一个激活函数。这里，我们使用之前的S型激活函数：\n",
    "mlp.setActivationFunction(cv2.ml.ANN_MLP_SIGMOID_SYM, 2.5, 1.0)\n",
    "\n",
    "# 使用之前描述的反向传播算法。我们还需要确保选择一个足够小的学习率。因为我们有10^5指数级的训练样本，最好将学习率设置为最多10^–5：\n",
    "mlp.setTrainMethod(cv2.ml.ANN_MLP_BACKPROP)\n",
    "mlp.setBackpropWeightScale(0.00001)\n",
    "\n",
    "# 指定终止条件。这里，我们使用和之前一样的条件：运行训练10次（term_max_iter）或者直到误差不再显著增加（term_eps）：\n",
    "term_mode = cv2.TERM_CRITERIA_MAX_ITER + cv2.TERM_CRITERIA_EPS\n",
    "term_max_iter = 10\n",
    "term_eps = 0.01\n",
    "mlp.setTermCriteria((term_mode, term_max_iter, term_eps))\n",
    "\n",
    "# 在训练集（X_train_pre）上训练网络：\n",
    "mlp.train(X_train_pre, cv2.ml.ROW_SAMPLE, y_train_pre)\n",
    "\n",
    "# 在训练集上计算准确率得分\n",
    "_, y_hat_train = mlp.predict(X_train_pre)\n",
    "from sklearn.metrics import accuracy_score\n",
    "accuracy_score(y_hat_train.round(), y_train_pre)"
   ]
  },
  {
   "cell_type": "code",
   "execution_count": 7,
   "metadata": {},
   "outputs": [
    {
     "output_type": "execute_result",
     "data": {
      "text/plain": [
       "0.8488"
      ]
     },
     "metadata": {},
     "execution_count": 7
    }
   ],
   "source": [
    "# 测试数据的准确率得分：\n",
    "_, y_hat_test = mlp.predict(X_test_pre)\n",
    "accuracy_score(y_hat_test.round(), y_test_pre)"
   ]
  },
  {
   "source": [
    "## 使用Keras训练深度神经网络\n",
    "\n",
    "### 预处理MNIST数据集"
   ],
   "cell_type": "markdown",
   "metadata": {}
  },
  {
   "cell_type": "code",
   "execution_count": 8,
   "metadata": {},
   "outputs": [],
   "source": [
    "import numpy as np\n",
    "np.random.seed(1337)\n",
    "\n",
    "from keras.datasets import mnist\n",
    "(X_train, y_train), (X_test, y_test) = mnist.load_data()"
   ]
  },
  {
   "source": [
    "Keras中的神经网络作用于特征矩阵，与标准OpenCV和scikit-learn估计器稍有不同。而Keras中特征矩阵的行仍然与样本个数（在下面的代码中是X_train.shape\\[0]）相对应，我们可以通过增加特征矩阵的维数来保持输入图像的二维属性："
   ],
   "cell_type": "markdown",
   "metadata": {}
  },
  {
   "cell_type": "code",
   "execution_count": 9,
   "metadata": {},
   "outputs": [],
   "source": [
    "img_rows, img_cols = 28, 28\n",
    "X_train = X_train.reshape(X_train.shape[0], img_rows, img_cols, 1)\n",
    "X_test = X_test.reshape(X_test.shape[0], img_rows, img_cols, 1)\n",
    "input_shape = (img_rows, img_cols, 1)\n",
    "    \n",
    "X_train = X_train.astype('float32') / 255.0\n",
    "X_test = X_test.astype('float32') / 255.0"
   ]
  },
  {
   "source": [
    "像之前那样对训练标签进行独热编码。这会确保目标标签的每个类别都被分配给输出层中的一个神经元。我们可以通过scikit-learn的preprocessing来实现这个任务，但是在本例中，使用Keras自己的实用函数会更容易："
   ],
   "cell_type": "markdown",
   "metadata": {}
  },
  {
   "cell_type": "code",
   "execution_count": 10,
   "metadata": {},
   "outputs": [],
   "source": [
    "from keras.utils import np_utils\n",
    "n_classes = 10\n",
    "Y_train = np_utils.to_categorical(y_train, n_classes)\n",
    "Y_test = np_utils.to_categorical(y_test, n_classes)"
   ]
  },
  {
   "source": [
    "### 创建一个卷积神经网络\n",
    "\n",
    "依赖Sequential模型来定义一个前馈神经网络："
   ],
   "cell_type": "markdown",
   "metadata": {}
  },
  {
   "cell_type": "code",
   "execution_count": 11,
   "metadata": {},
   "outputs": [],
   "source": [
    "from keras.models import Sequential\n",
    "model = Sequential()"
   ]
  },
  {
   "source": [
    "围绕一个卷积层设计神经网络，核函数是一个3×3像素的二维卷积："
   ],
   "cell_type": "markdown",
   "metadata": {}
  },
  {
   "cell_type": "code",
   "execution_count": 12,
   "metadata": {},
   "outputs": [],
   "source": [
    "from keras.layers import Conv2D\n",
    "n_filters = 32\n",
    "kernel_size = (3, 3)\n",
    "model.add(Conv2D(n_filters, (kernel_size[0], kernel_size[1]),\n",
    "                 padding='valid',\n",
    "                 input_shape=input_shape))"
   ]
  },
  {
   "source": [
    "把一个线性修正单元作为激活函数："
   ],
   "cell_type": "markdown",
   "metadata": {}
  },
  {
   "cell_type": "code",
   "execution_count": 13,
   "metadata": {},
   "outputs": [],
   "source": [
    "from keras.layers import Activation\n",
    "model.add(Activation('relu'))"
   ]
  },
  {
   "source": [
    "在一个深度卷积神经网络中，我们可以有任意多个层。应用于MNIST的这种结构的一个流行版本包括进行两次卷积和修正："
   ],
   "cell_type": "markdown",
   "metadata": {}
  },
  {
   "cell_type": "code",
   "execution_count": 14,
   "metadata": {},
   "outputs": [],
   "source": [
    "model.add(Conv2D(n_filters, (kernel_size[0], kernel_size[1])))\n",
    "model.add(Activation('relu'))"
   ]
  },
  {
   "source": [
    "对激活函数进行池化操作，并添加一个dropout层："
   ],
   "cell_type": "markdown",
   "metadata": {}
  },
  {
   "cell_type": "code",
   "execution_count": 15,
   "metadata": {},
   "outputs": [],
   "source": [
    "from keras.layers import MaxPooling2D, Dropout\n",
    "pool_size = (2, 2)\n",
    "model.add(MaxPooling2D(pool_size=pool_size))\n",
    "model.add(Dropout(0.25))"
   ]
  },
  {
   "source": [
    "平展模型，并最终通过一个softmax函数将其传递到输出层："
   ],
   "cell_type": "markdown",
   "metadata": {}
  },
  {
   "cell_type": "code",
   "execution_count": 16,
   "metadata": {},
   "outputs": [],
   "source": [
    "from keras.layers import Flatten, Dense\n",
    "model.add(Flatten())\n",
    "model.add(Dense(128))\n",
    "model.add(Activation('relu'))\n",
    "model.add(Dropout(0.5))\n",
    "model.add(Dense(n_classes))\n",
    "model.add(Activation('softmax'))"
   ]
  },
  {
   "source": [
    "使用交叉熵损失以及adadelta算法："
   ],
   "cell_type": "markdown",
   "metadata": {}
  },
  {
   "cell_type": "code",
   "execution_count": 17,
   "metadata": {},
   "outputs": [],
   "source": [
    "model.compile(loss='categorical_crossentropy',\n",
    "              optimizer='adadelta',\n",
    "              metrics=['accuracy'])"
   ]
  },
  {
   "source": [
    "### 拟合模型"
   ],
   "cell_type": "markdown",
   "metadata": {}
  },
  {
   "cell_type": "code",
   "execution_count": 18,
   "metadata": {},
   "outputs": [
    {
     "output_type": "stream",
     "name": "stdout",
     "text": [
      "Epoch 1/12\n",
      "469/469 [==============================] - 43s 57ms/step - loss: 2.2913 - accuracy: 0.1307 - val_loss: 2.2501 - val_accuracy: 0.2820\n",
      "Epoch 2/12\n",
      "469/469 [==============================] - 27s 58ms/step - loss: 2.2485 - accuracy: 0.1925 - val_loss: 2.1968 - val_accuracy: 0.4017\n",
      "Epoch 3/12\n",
      "469/469 [==============================] - 29s 63ms/step - loss: 2.1986 - accuracy: 0.2585 - val_loss: 2.1300 - val_accuracy: 0.5013\n",
      "Epoch 4/12\n",
      "469/469 [==============================] - 29s 63ms/step - loss: 2.1353 - accuracy: 0.3281 - val_loss: 2.0441 - val_accuracy: 0.5737\n",
      "Epoch 5/12\n",
      "469/469 [==============================] - 30s 64ms/step - loss: 2.0547 - accuracy: 0.3925 - val_loss: 1.9351 - val_accuracy: 0.6376\n",
      "Epoch 6/12\n",
      "469/469 [==============================] - 30s 64ms/step - loss: 1.9565 - accuracy: 0.4418 - val_loss: 1.8044 - val_accuracy: 0.6869\n",
      "Epoch 7/12\n",
      "469/469 [==============================] - 30s 64ms/step - loss: 1.8453 - accuracy: 0.4901 - val_loss: 1.6554 - val_accuracy: 0.7252\n",
      "Epoch 8/12\n",
      "469/469 [==============================] - 30s 64ms/step - loss: 1.7121 - accuracy: 0.5366 - val_loss: 1.4961 - val_accuracy: 0.7573\n",
      "Epoch 9/12\n",
      "469/469 [==============================] - 30s 64ms/step - loss: 1.5835 - accuracy: 0.5703 - val_loss: 1.3368 - val_accuracy: 0.7817\n",
      "Epoch 10/12\n",
      "469/469 [==============================] - 30s 65ms/step - loss: 1.4525 - accuracy: 0.6028 - val_loss: 1.1893 - val_accuracy: 0.7956\n",
      "Epoch 11/12\n",
      "469/469 [==============================] - 30s 64ms/step - loss: 1.3418 - accuracy: 0.6223 - val_loss: 1.0612 - val_accuracy: 0.8099\n",
      "Epoch 12/12\n",
      "469/469 [==============================] - 28s 60ms/step - loss: 1.2445 - accuracy: 0.6442 - val_loss: 0.9554 - val_accuracy: 0.8210\n"
     ]
    },
    {
     "output_type": "execute_result",
     "data": {
      "text/plain": [
       "<tensorflow.python.keras.callbacks.History at 0x2191a1ed548>"
      ]
     },
     "metadata": {},
     "execution_count": 18
    }
   ],
   "source": [
    "model.fit(X_train, Y_train, batch_size=128, epochs=12,\n",
    "          verbose=1, validation_data=(X_test, Y_test))"
   ]
  },
  {
   "source": [
    "评估分类器："
   ],
   "cell_type": "markdown",
   "metadata": {}
  },
  {
   "cell_type": "code",
   "execution_count": 19,
   "metadata": {},
   "outputs": [
    {
     "output_type": "stream",
     "name": "stdout",
     "text": [
      "313/313 [==============================] - 4s 11ms/step - loss: 0.9554 - accuracy: 0.8210\n"
     ]
    },
    {
     "output_type": "execute_result",
     "data": {
      "text/plain": [
       "[0.9554135799407959, 0.8209999799728394]"
      ]
     },
     "metadata": {},
     "execution_count": 19
    }
   ],
   "source": [
    "model.evaluate(X_test, Y_test, verbose=1)"
   ]
  }
 ]
}