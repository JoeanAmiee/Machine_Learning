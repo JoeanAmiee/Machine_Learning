{
 "metadata": {
  "language_info": {
   "codemirror_mode": {
    "name": "ipython",
    "version": 3
   },
   "file_extension": ".py",
   "mimetype": "text/x-python",
   "name": "python",
   "nbconvert_exporter": "python",
   "pygments_lexer": "ipython3",
   "version": "3.7.9-final"
  },
  "orig_nbformat": 2,
  "kernelspec": {
   "name": "python3",
   "display_name": "Python 3.7.9 64-bit ('Python': conda)",
   "metadata": {
    "interpreter": {
     "hash": "d79bf92d27f0a06faab2c17a27753ea1c73fc2f3b75e8383d94e54a3615baae2"
    }
   }
  }
 },
 "nbformat": 4,
 "nbformat_minor": 2,
 "cells": [
  {
   "source": [
    "Keras的核心数据结构是一个模型，类似于OpenCV的分类器对象，只是Keras只关注神经网络。最简单的模型类型是顺序模型，其将神经网络的不同层排列成一个线性堆栈，就像我们在OpenCV中对MLP所做的那样："
   ],
   "cell_type": "markdown",
   "metadata": {}
  },
  {
   "cell_type": "code",
   "execution_count": 1,
   "metadata": {},
   "outputs": [],
   "source": [
    "from keras.models import Sequential\n",
    "model = Sequential()"
   ]
  },
  {
   "source": [
    "接下来，可以将不同的层一个一个地添加到模型中。"
   ],
   "cell_type": "markdown",
   "metadata": {}
  },
  {
   "cell_type": "code",
   "execution_count": 2,
   "metadata": {},
   "outputs": [],
   "source": [
    "from keras.layers import Dense\n",
    "model.add(Dense(1, activation='linear', input_dim=2, kernel_initializer='zeros'))"
   ]
  },
  {
   "source": [
    "我们将选择SGD作为优化器，均方误差作为代价函数，准确率作为评分函数："
   ],
   "cell_type": "markdown",
   "metadata": {}
  },
  {
   "cell_type": "code",
   "execution_count": 3,
   "metadata": {},
   "outputs": [],
   "source": [
    "model.compile(optimizer='sgd',\n",
    "              loss='mean_squared_error',\n",
    "              metrics=['accuracy'])"
   ]
  },
  {
   "source": [
    "为了比较Keras实现和我们自定义版本的性能，我们将把分类器应用到同一个数据集："
   ],
   "cell_type": "markdown",
   "metadata": {}
  },
  {
   "cell_type": "code",
   "execution_count": 4,
   "metadata": {},
   "outputs": [],
   "source": [
    "from sklearn.datasets.samples_generator import make_blobs\n",
    "X, y = make_blobs(n_samples=100, centers=2, cluster_std=2.2, random_state=42)"
   ]
  },
  {
   "source": [
    "最后，Keras模型用一个非常熟悉的语法拟合数据。这里，我们还可以选择训练的迭代次数（epochs），在计算误差梯度（batch_size）之前需要提供多少个样本，是否打乱数据集（shuffle）以及是否更新输出进度（verbose）："
   ],
   "cell_type": "markdown",
   "metadata": {}
  },
  {
   "cell_type": "code",
   "execution_count": 5,
   "metadata": {},
   "outputs": [
    {
     "output_type": "stream",
     "name": "stdout",
     "text": [
      "4/4 [==============================] - 0s 6ms/step - loss: 0.0409 - accuracy: 1.0000\n"
     ]
    },
    {
     "output_type": "execute_result",
     "data": {
      "text/plain": [
       "[0.04094180092215538, 1.0]"
      ]
     },
     "metadata": {},
     "execution_count": 5
    }
   ],
   "source": [
    "model.fit(X, y, epochs=400, batch_size=100, shuffle=False, verbose=0)\n",
    "model.evaluate(X, y)"
   ]
  }
 ]
}