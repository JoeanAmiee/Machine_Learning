{
 "metadata": {
  "language_info": {
   "codemirror_mode": {
    "name": "ipython",
    "version": 3
   },
   "file_extension": ".py",
   "mimetype": "text/x-python",
   "name": "python",
   "nbconvert_exporter": "python",
   "pygments_lexer": "ipython3",
   "version": "3.7.9-final"
  },
  "orig_nbformat": 2,
  "kernelspec": {
   "name": "python3",
   "display_name": "Python 3.7.9 64-bit",
   "metadata": {
    "interpreter": {
     "hash": "d79bf92d27f0a06faab2c17a27753ea1c73fc2f3b75e8383d94e54a3615baae2"
    }
   }
  }
 },
 "nbformat": 4,
 "nbformat_minor": 2,
 "cells": [
  {
   "source": [
    "加载数据集"
   ],
   "cell_type": "markdown",
   "metadata": {}
  },
  {
   "cell_type": "code",
   "execution_count": 1,
   "metadata": {},
   "outputs": [
    {
     "output_type": "execute_result",
     "data": {
      "text/plain": [
       "(1797, 64)"
      ]
     },
     "metadata": {},
     "execution_count": 1
    }
   ],
   "source": [
    "from sklearn.datasets import load_digits\n",
    "digits = load_digits()\n",
    "digits.data.shape"
   ]
  },
  {
   "source": [
    "运行k-均值"
   ],
   "cell_type": "markdown",
   "metadata": {}
  },
  {
   "cell_type": "code",
   "execution_count": 2,
   "metadata": {},
   "outputs": [],
   "source": [
    "import cv2\n",
    "criteria = (cv2.TERM_CRITERIA_EPS + cv2.TERM_CRITERIA_MAX_ITER, 10, 1.0)\n",
    "flags = cv2.KMEANS_RANDOM_CENTERS"
   ]
  },
  {
   "source": [
    "对数据应用k-均值。因为有10个（0～9）不同的数字，我们让算法寻找10个不同的簇："
   ],
   "cell_type": "markdown",
   "metadata": {}
  },
  {
   "cell_type": "code",
   "execution_count": 3,
   "metadata": {},
   "outputs": [],
   "source": [
    "import numpy as np\n",
    "compactness, clusters, centers = cv2.kmeans(digits.data.astype(np.float32), 10, None, criteria, 10, flags)"
   ]
  },
  {
   "source": [
    "类似于表示不同RGB颜色的N×3矩阵，这次，centers数组由N×8×8个中心图像组成，N是聚类数。因此，如果我们想要绘制出中心，就必须把centers矩阵重新调整为8×8的图像："
   ],
   "cell_type": "markdown",
   "metadata": {}
  },
  {
   "cell_type": "code",
   "execution_count": 4,
   "metadata": {},
   "outputs": [
    {
     "output_type": "display_data",
     "data": {
      "text/plain": "<Figure size 720x288 with 10 Axes>",
      "image/svg+xml": "<?xml version=\"1.0\" encoding=\"utf-8\" standalone=\"no\"?>\r\n<!DOCTYPE svg PUBLIC \"-//W3C//DTD SVG 1.1//EN\"\r\n  \"http://www.w3.org/Graphics/SVG/1.1/DTD/svg11.dtd\">\r\n<!-- Created with matplotlib (https://matplotlib.org/) -->\r\n<svg height=\"232.710533pt\" version=\"1.1\" viewBox=\"0 0 575.9 232.710533\" width=\"575.9pt\" xmlns=\"http://www.w3.org/2000/svg\" xmlns:xlink=\"http://www.w3.org/1999/xlink\">\r\n <metadata>\r\n  <rdf:RDF xmlns:cc=\"http://creativecommons.org/ns#\" xmlns:dc=\"http://purl.org/dc/elements/1.1/\" xmlns:rdf=\"http://www.w3.org/1999/02/22-rdf-syntax-ns#\">\r\n   <cc:Work>\r\n    <dc:type rdf:resource=\"http://purl.org/dc/dcmitype/StillImage\"/>\r\n    <dc:date>2021-03-07T16:34:38.772473</dc:date>\r\n    <dc:format>image/svg+xml</dc:format>\r\n    <dc:creator>\r\n     <cc:Agent>\r\n      <dc:title>Matplotlib v3.3.3, https://matplotlib.org/</dc:title>\r\n     </cc:Agent>\r\n    </dc:creator>\r\n   </cc:Work>\r\n  </rdf:RDF>\r\n </metadata>\r\n <defs>\r\n  <style type=\"text/css\">*{stroke-linecap:butt;stroke-linejoin:round;}</style>\r\n </defs>\r\n <g id=\"figure_1\">\r\n  <g id=\"patch_1\">\r\n   <path d=\"M 0 232.710533 \r\nL 575.9 232.710533 \r\nL 575.9 0 \r\nL 0 0 \r\nz\r\n\" style=\"fill:none;\"/>\r\n  </g>\r\n  <g id=\"axes_1\">\r\n   <g id=\"patch_2\">\r\n    <path d=\"M 10.7 103.406897 \r\nL 106.906897 103.406897 \r\nL 106.906897 7.2 \r\nL 10.7 7.2 \r\nz\r\n\" style=\"fill:#e5e5e5;\"/>\r\n   </g>\r\n   <g clip-path=\"url(#p40dd5394d8)\">\r\n    <image height=\"97\" id=\"image4b16d921df\" transform=\"scale(1 -1)translate(0 -97)\" width=\"97\" x=\"10.7\" xlink:href=\"data:image/png;base64,\r\niVBORw0KGgoAAAANSUhEUgAAAGEAAABhCAYAAADGBs+jAAACMUlEQVR4nO3cMWpqURhF4d9HBAMW2gSEpA3OwcZSEJyEhaWZgNhLxhAIFjaZRMgQMgdRBIsIsRDxjWE/eLCK9dVbjrA4zeVyG7fb7VaB6/WazOvt7S3aL5fLaH+5XKJ9VdV8Po/20+k02vd6vWj/J1rrvzACgBEAjABgBAAjABgBwAgARgAwAoARABrps6PdbhcdMBqNov1wOIz2p9Mp2ldVHQ6HaL9araJ9v9+P9t4EACMAGAHACABGADACgBEAjABgBAAjABgB4C79QaPRiPb39/fR/vf3N9qHj76qqurx8THaPzw8xGckvAkARgAwAoARAIwAYAQAIwAYAcAIAEYAMAJA/Oyo0+lE+/F4HO0Xi0W0T/9PVdXHx0e073a78RkJbwKAEQCMAGAEACMAGAHACABGADACgBEAjABgBID4Ad75fI72Pz8/0f7p6Sna7/f7aF9V9fX1Fe0Hg0G0b7Va0d6bAGAEACMAGAHACABGADACgBEAjABgBAAjAMQfnfr+/o4OmM1m0X4ymUT74/EY7auq1ut1tP/8/Iz2z8/P0d6bAGAEACMAGAHACABGADACgBEAjABgBAAjAMTvHbXb7Wi/3W6j/Wazifbpx8GrqprNZrRPP4SV8iYAGAHACABGADACgBEAjABgBAAjABgBwAgA8XtH1+s1OuD9/T3av76+Rvt/ee9oPp9H+5eXl2iffqTdmwBgBAAjABgBwAgARgAwAoARAIwAYAQAIwD8BfGZYEwK0guOAAAAAElFTkSuQmCC\" y=\"-6.406897\"/>\r\n   </g>\r\n   <g id=\"matplotlib.axis_1\"/>\r\n   <g id=\"matplotlib.axis_2\"/>\r\n   <g id=\"patch_3\">\r\n    <path d=\"M 10.7 103.406897 \r\nL 10.7 7.2 \r\n\" style=\"fill:none;stroke:#ffffff;stroke-linecap:square;stroke-linejoin:miter;\"/>\r\n   </g>\r\n   <g id=\"patch_4\">\r\n    <path d=\"M 106.906897 103.406897 \r\nL 106.906897 7.2 \r\n\" style=\"fill:none;stroke:#ffffff;stroke-linecap:square;stroke-linejoin:miter;\"/>\r\n   </g>\r\n   <g id=\"patch_5\">\r\n    <path d=\"M 10.7 103.406897 \r\nL 106.906897 103.406897 \r\n\" style=\"fill:none;stroke:#ffffff;stroke-linecap:square;stroke-linejoin:miter;\"/>\r\n   </g>\r\n   <g id=\"patch_6\">\r\n    <path d=\"M 10.7 7.2 \r\nL 106.906897 7.2 \r\n\" style=\"fill:none;stroke:#ffffff;stroke-linecap:square;stroke-linejoin:miter;\"/>\r\n   </g>\r\n  </g>\r\n  <g id=\"axes_2\">\r\n   <g id=\"patch_7\">\r\n    <path d=\"M 126.148276 103.406897 \r\nL 222.355172 103.406897 \r\nL 222.355172 7.2 \r\nL 126.148276 7.2 \r\nz\r\n\" style=\"fill:#e5e5e5;\"/>\r\n   </g>\r\n   <g clip-path=\"url(#p6d5e0a20c7)\">\r\n    <image height=\"97\" id=\"image566833a8a3\" transform=\"scale(1 -1)translate(0 -97)\" width=\"97\" x=\"126.148276\" xlink:href=\"data:image/png;base64,\r\niVBORw0KGgoAAAANSUhEUgAAAGEAAABhCAYAAADGBs+jAAACHElEQVR4nO3doWrqYRyH8d/ODlgmA9HgYKK7BMuyyWCTYRhrZrt5aWnBvluwCt6JVoMG70CY5xq+B4QnPJ/8lTc8vOXlD95dr9dr3dDxeIz28/k82m82m2hfVdXv96P9arWK9pPJJNr/ida6CSMAGAHACABGADACgBEAjABgBAAjABgB4C59O/r9/Y0OeHt7i/b7/T7aL5fLaF9V9fPzE+0bjUa0X6/X0d6bAGAEACMAGAHACABGADACgBEAjABgBAAjAPxNf3A4HKL9druN9qPRKNr/z2dTrVbrpvv0rcmbAGAEACMAGAHACABGADACgBEAjABgBAAjANz87ehyuUT73W4X7b+/v6N9VdVgMIj2i8Ui2t/f30d7bwKAEQCMAGAEACMAGAHACABGADACgBEAjABgBID4Aa/T6UT79MOp6XQa7cfjcbSvqnp5eYn2vV4vPiPhTQAwAoARAIwAYAQAIwAYAcAIAEYAMAKAEQDit6Onp6do3263o/3pdIr2w+Ew2ldVPT4+xr+5JW8CgBEAjABgBAAjABgBwAgARgAwAoARAIwAEL8dPTw8RPv39/do//n5Ge1fX1+jfVXVx8dHtG82m/EZCW8CgBEAjABgBAAjABgBwAgARgAwAoARAIwAEP/ZXep8Pkf72WwW7Z+fn6N9VdXX11e073a78RkJbwKAEQCMAGAEACMAGAHACABGADACgBEAjADwD7vtR9EedBThAAAAAElFTkSuQmCC\" y=\"-6.406897\"/>\r\n   </g>\r\n   <g id=\"matplotlib.axis_3\"/>\r\n   <g id=\"matplotlib.axis_4\"/>\r\n   <g id=\"patch_8\">\r\n    <path d=\"M 126.148276 103.406897 \r\nL 126.148276 7.2 \r\n\" style=\"fill:none;stroke:#ffffff;stroke-linecap:square;stroke-linejoin:miter;\"/>\r\n   </g>\r\n   <g id=\"patch_9\">\r\n    <path d=\"M 222.355172 103.406897 \r\nL 222.355172 7.2 \r\n\" style=\"fill:none;stroke:#ffffff;stroke-linecap:square;stroke-linejoin:miter;\"/>\r\n   </g>\r\n   <g id=\"patch_10\">\r\n    <path d=\"M 126.148276 103.406897 \r\nL 222.355172 103.406897 \r\n\" style=\"fill:none;stroke:#ffffff;stroke-linecap:square;stroke-linejoin:miter;\"/>\r\n   </g>\r\n   <g id=\"patch_11\">\r\n    <path d=\"M 126.148276 7.2 \r\nL 222.355172 7.2 \r\n\" style=\"fill:none;stroke:#ffffff;stroke-linecap:square;stroke-linejoin:miter;\"/>\r\n   </g>\r\n  </g>\r\n  <g id=\"axes_3\">\r\n   <g id=\"patch_12\">\r\n    <path d=\"M 241.596552 103.406897 \r\nL 337.803448 103.406897 \r\nL 337.803448 7.2 \r\nL 241.596552 7.2 \r\nz\r\n\" style=\"fill:#e5e5e5;\"/>\r\n   </g>\r\n   <g clip-path=\"url(#p857184722e)\">\r\n    <image height=\"97\" id=\"image2a3d233216\" transform=\"scale(1 -1)translate(0 -97)\" width=\"97\" x=\"241.596552\" xlink:href=\"data:image/png;base64,\r\niVBORw0KGgoAAAANSUhEUgAAAGEAAABhCAYAAADGBs+jAAAB50lEQVR4nO3dTcpBYRyG8f/Lq3xMmctUZwPsjo2xAGswk1ImEkWONdyDU1e5fuNb1NUzeXL4a9u2rQ7t9/tov9lsov3r9Yr2VVXb7Tbar1araD8YDKJ9L1qrE0YAMAKAEQCMAGAEACMAGAHACABGADACwH/6gvSuZrfbRfvD4RDtF4tFtK+qmkwm8Wu65EkAMAKAEQCMAGAEACMAGAHACABGADACgBEA4ruj2+0W7U+nU7S/3+/R/vF4RPuqquFwGO0/n0/8HglPAoARAIwAYAQAIwAYAcAIAEYAMAKAEQCMABDfHaX3KKPRKNq/3+9on941VVU9n89o3/FjfZ4EAiMAGAHACABGADACgBEAjABgBAAjABgBwAgA8QVev9+P9tPpNNqnX8y6XC7RvqrqfD5H+6Zp4vdIeBIAjABgBAAjABgBwAgARgAwAoARAIwAYASAzu+OZrNZtB+Px9H+er1G+6qq4/EY7f3y1w8wAoARAIwAYAQAIwAYAcAIAEYAMAKAEQDiu6P4j9x6Weeuf+CpKn/Y0B+d+gFGADACgBEAjABgBAAjABgBwAgARgAwAkB8d5Q+U7ZcLqP9fD6P9unnqapar9fRPr0vS3kSAIwAYAQAIwAYAcAIAEYAMAKAEQCMAGAEgC+T30z5Y/bXFQAAAABJRU5ErkJggg==\" y=\"-6.406897\"/>\r\n   </g>\r\n   <g id=\"matplotlib.axis_5\"/>\r\n   <g id=\"matplotlib.axis_6\"/>\r\n   <g id=\"patch_13\">\r\n    <path d=\"M 241.596552 103.406897 \r\nL 241.596552 7.2 \r\n\" style=\"fill:none;stroke:#ffffff;stroke-linecap:square;stroke-linejoin:miter;\"/>\r\n   </g>\r\n   <g id=\"patch_14\">\r\n    <path d=\"M 337.803448 103.406897 \r\nL 337.803448 7.2 \r\n\" style=\"fill:none;stroke:#ffffff;stroke-linecap:square;stroke-linejoin:miter;\"/>\r\n   </g>\r\n   <g id=\"patch_15\">\r\n    <path d=\"M 241.596552 103.406897 \r\nL 337.803448 103.406897 \r\n\" style=\"fill:none;stroke:#ffffff;stroke-linecap:square;stroke-linejoin:miter;\"/>\r\n   </g>\r\n   <g id=\"patch_16\">\r\n    <path d=\"M 241.596552 7.2 \r\nL 337.803448 7.2 \r\n\" style=\"fill:none;stroke:#ffffff;stroke-linecap:square;stroke-linejoin:miter;\"/>\r\n   </g>\r\n  </g>\r\n  <g id=\"axes_4\">\r\n   <g id=\"patch_17\">\r\n    <path d=\"M 357.044828 103.406897 \r\nL 453.251724 103.406897 \r\nL 453.251724 7.2 \r\nL 357.044828 7.2 \r\nz\r\n\" style=\"fill:#e5e5e5;\"/>\r\n   </g>\r\n   <g clip-path=\"url(#pdb991a0180)\">\r\n    <image height=\"97\" id=\"imagec7bcd64d9f\" transform=\"scale(1 -1)translate(0 -97)\" width=\"97\" x=\"357.044828\" xlink:href=\"data:image/png;base64,\r\niVBORw0KGgoAAAANSUhEUgAAAGEAAABhCAYAAADGBs+jAAACDUlEQVR4nO3dO4piURhF4d+iEwODAjE0EkycgZNwSCJOwgmIzsJpCAYaiIGPwBcKgj2G3dCwgvXFu7jBqpMcrtr4fr/fAtlsNtF+NBrFz2i1WtF+uVxG+263G+1/orX+CyMAGAHACABGADACgBEAjABgBAAjABgB4E/6B+lV0+fzifaXyyXan8/naF9V9Xw+o32j0YifkfAkABgBwAgARgAwAoARAIwAYAQAIwAYAcAIAPHd0fV6jfan0yna3263aJ++Q1RV9Xq9on2z2YyfkfAkABgBwAgARgAwAoARAIwAYAQAIwAYAcAIAPHdUXoXNJ/Po/37/Y72//KRu8fjEe3v93u0b7fb0d6TAGAEACMAGAHACABGADACgBEAjABgBAAjABgBIL7A22630X42m0X79EWr4/EY7avyF8zSF95SngQAIwAYAcAIAEYAMAKAEQCMAGAEACMAGAEgvjvq9XrRfjgcRvvVahXtf39/o31V/sLYfr+P9oPBINp7EgCMAGAEACMAGAHACABGADACgBEAjABgBID47ij9IbfJZBLtx+NxtF8sFtG+qqrT6UT7w+EQ7dMvafckABgBwAgARgAwAoARAIwAYAQAIwAYAcAIAPHdUfrDb/1+P9pPp9Nov16vo31V1W63i/bxl0j9ZP/bngQAIwAYAcAIAEYAMAKAEQCMAGAEACMAGAHgL6ucXtLzmg7UAAAAAElFTkSuQmCC\" y=\"-6.406897\"/>\r\n   </g>\r\n   <g id=\"matplotlib.axis_7\"/>\r\n   <g id=\"matplotlib.axis_8\"/>\r\n   <g id=\"patch_18\">\r\n    <path d=\"M 357.044828 103.406897 \r\nL 357.044828 7.2 \r\n\" style=\"fill:none;stroke:#ffffff;stroke-linecap:square;stroke-linejoin:miter;\"/>\r\n   </g>\r\n   <g id=\"patch_19\">\r\n    <path d=\"M 453.251724 103.406897 \r\nL 453.251724 7.2 \r\n\" style=\"fill:none;stroke:#ffffff;stroke-linecap:square;stroke-linejoin:miter;\"/>\r\n   </g>\r\n   <g id=\"patch_20\">\r\n    <path d=\"M 357.044828 103.406897 \r\nL 453.251724 103.406897 \r\n\" style=\"fill:none;stroke:#ffffff;stroke-linecap:square;stroke-linejoin:miter;\"/>\r\n   </g>\r\n   <g id=\"patch_21\">\r\n    <path d=\"M 357.044828 7.2 \r\nL 453.251724 7.2 \r\n\" style=\"fill:none;stroke:#ffffff;stroke-linecap:square;stroke-linejoin:miter;\"/>\r\n   </g>\r\n  </g>\r\n  <g id=\"axes_5\">\r\n   <g id=\"patch_22\">\r\n    <path d=\"M 472.493103 103.406897 \r\nL 568.7 103.406897 \r\nL 568.7 7.2 \r\nL 472.493103 7.2 \r\nz\r\n\" style=\"fill:#e5e5e5;\"/>\r\n   </g>\r\n   <g clip-path=\"url(#p40d7acd932)\">\r\n    <image height=\"97\" id=\"image5b92a59e7e\" transform=\"scale(1 -1)translate(0 -97)\" width=\"97\" x=\"472.493103\" xlink:href=\"data:image/png;base64,\r\niVBORw0KGgoAAAANSUhEUgAAAGEAAABhCAYAAADGBs+jAAACGUlEQVR4nO3boWrqcRyG8e85W3BRVsQZLRO8AGGYFsXkwGw3eR8mwbyrWF1y3RswaBdsbqDnFs47GDyD55Pf/wwPv/KF/bler9cKHI/HZF7T6TTav7+/R/vFYhHtv/PN/f19/BuJvz/61/VfjABgBAAjABgBwAgARgAwAoARAIwAYASA2/iD2+yT2WwW7VutVrR/e3uL9lVVvV4v2k8mk2jfaDSivS8BwAgARgAwAoARAIwAYAQAIwAYAcAIAEYAiG9H6V1kOBxG+5ubm2j/9fUV7auq9vt9tP/8/Iz23o5+ISMAGAHACABGADACgBEAjABgBAAjABgBIL4dHQ6HaL9araL9breL9t/RbrejfXrPSvkSAIwAYAQAIwAYAcAIAEYAMAKAEQCMAGAEACMAxAe8j4+PaL9er6N9t9uN9qPRKNpXVQ0Gg2h/d3cX/0bClwBgBAAjABgBwAgARgAwAoARAIwAYAQAIwDEt6PT6RTtL5dLtJ/P59H++fk52ldVNZvN+Juf5EsAMAKAEQCMAGAEACMAGAHACABGADACgBEA4ttR+k935/M52i+Xy2i/3W6jfVVVp9OJ9uPxONo/Pj5Ge18CgBEAjABgBAAjABgBwAgARgAwAoARAIwAEN+Onp6eov3Ly0u032w20f719TXaV1U9PDxE+36/H+29Hf1CRgAwAoARAIwAYAQAIwAYAcAIAEYAMALAP+J6Qmd6Z3mVAAAAAElFTkSuQmCC\" y=\"-6.406897\"/>\r\n   </g>\r\n   <g id=\"matplotlib.axis_9\"/>\r\n   <g id=\"matplotlib.axis_10\"/>\r\n   <g id=\"patch_23\">\r\n    <path d=\"M 472.493103 103.406897 \r\nL 472.493103 7.2 \r\n\" style=\"fill:none;stroke:#ffffff;stroke-linecap:square;stroke-linejoin:miter;\"/>\r\n   </g>\r\n   <g id=\"patch_24\">\r\n    <path d=\"M 568.7 103.406897 \r\nL 568.7 7.2 \r\n\" style=\"fill:none;stroke:#ffffff;stroke-linecap:square;stroke-linejoin:miter;\"/>\r\n   </g>\r\n   <g id=\"patch_25\">\r\n    <path d=\"M 472.493103 103.406897 \r\nL 568.7 103.406897 \r\n\" style=\"fill:none;stroke:#ffffff;stroke-linecap:square;stroke-linejoin:miter;\"/>\r\n   </g>\r\n   <g id=\"patch_26\">\r\n    <path d=\"M 472.493103 7.2 \r\nL 568.7 7.2 \r\n\" style=\"fill:none;stroke:#ffffff;stroke-linecap:square;stroke-linejoin:miter;\"/>\r\n   </g>\r\n  </g>\r\n  <g id=\"axes_6\">\r\n   <g id=\"patch_27\">\r\n    <path d=\"M 10.7 222.010533 \r\nL 106.906897 222.010533 \r\nL 106.906897 125.803636 \r\nL 10.7 125.803636 \r\nz\r\n\" style=\"fill:#e5e5e5;\"/>\r\n   </g>\r\n   <g clip-path=\"url(#p8f3c3c2895)\">\r\n    <image height=\"97\" id=\"imagea928a7f667\" transform=\"scale(1 -1)translate(0 -97)\" width=\"97\" x=\"10.7\" xlink:href=\"data:image/png;base64,\r\niVBORw0KGgoAAAANSUhEUgAAAGEAAABhCAYAAADGBs+jAAACHklEQVR4nO3dsWmyYRhG4eeXFGpwCRs3sHMMV7ARqyAuYB9SJTNoZaVtCjdwAK1DAqIgosR/hrsInOJc9S1fcXybF/z893g8HhW43W7JvGazWbR/e3uL9r+/v9G+qmo4HEb7+Xwe7bvdbrRvRGv9CSMAGAHACABGADACgBEAjABgBAAjABgB4Cn9wOVyifbtdjvav7+/R/vT6RTtq6peX1+j/Xq9jvaTySTaexIAjABgBAAjABgBwAgARgAwAoARAIwAYASA+O6o1WpF+5eXl2jfbDaj/eFwiPZVVcvlMtqn91ONRvbd9iQAGAHACABGADACgBEAjABgBAAjABgBwAgA8d1Rei9yPp+j/Xa7jfafn5/Rvqrq+/s72vf7/fgZCU8CgBEAjABgBAAjABgBwAgARgAwAoARAIwAYASA+ALv6+sr2q9Wq2i/2WyifXrhV1U1GAyifa/Xi5+R8CQAGAHACABGADACgBEAjABgBAAjABgBwAgA8d3Rfr+P9rvdLtqPx+No//z8HO2rqn5+fqJ9+mPJlCcBwAgARgAwAoARAIwAYAQAIwAYAcAIAEYAiO+O7vd7tF8sFtH+er1G++PxGO2r8peuh/8HGPMkABgBwAgARgAwAoARAIwAYAQAIwAYAcAIAPHdUfoCptFoFO0/Pj6ifafTifZVVdPp9M+fkfAkABgBwAgARgAwAoARAIwAYAQAIwAYAcAIAP8Bo+RbG+TPkiAAAAAASUVORK5CYII=\" y=\"-125.010533\"/>\r\n   </g>\r\n   <g id=\"matplotlib.axis_11\"/>\r\n   <g id=\"matplotlib.axis_12\"/>\r\n   <g id=\"patch_28\">\r\n    <path d=\"M 10.7 222.010533 \r\nL 10.7 125.803636 \r\n\" style=\"fill:none;stroke:#ffffff;stroke-linecap:square;stroke-linejoin:miter;\"/>\r\n   </g>\r\n   <g id=\"patch_29\">\r\n    <path d=\"M 106.906897 222.010533 \r\nL 106.906897 125.803636 \r\n\" style=\"fill:none;stroke:#ffffff;stroke-linecap:square;stroke-linejoin:miter;\"/>\r\n   </g>\r\n   <g id=\"patch_30\">\r\n    <path d=\"M 10.7 222.010533 \r\nL 106.906897 222.010533 \r\n\" style=\"fill:none;stroke:#ffffff;stroke-linecap:square;stroke-linejoin:miter;\"/>\r\n   </g>\r\n   <g id=\"patch_31\">\r\n    <path d=\"M 10.7 125.803636 \r\nL 106.906897 125.803636 \r\n\" style=\"fill:none;stroke:#ffffff;stroke-linecap:square;stroke-linejoin:miter;\"/>\r\n   </g>\r\n  </g>\r\n  <g id=\"axes_7\">\r\n   <g id=\"patch_32\">\r\n    <path d=\"M 126.148276 222.010533 \r\nL 222.355172 222.010533 \r\nL 222.355172 125.803636 \r\nL 126.148276 125.803636 \r\nz\r\n\" style=\"fill:#e5e5e5;\"/>\r\n   </g>\r\n   <g clip-path=\"url(#p7aaf6bd82c)\">\r\n    <image height=\"97\" id=\"imagec443fbad66\" transform=\"scale(1 -1)translate(0 -97)\" width=\"97\" x=\"126.148276\" xlink:href=\"data:image/png;base64,\r\niVBORw0KGgoAAAANSUhEUgAAAGEAAABhCAYAAADGBs+jAAACGUlEQVR4nO3cMWqiURhG4c+JNoko9haJtZDePdjbiE3WY2k2YplOEMQinSuwEW3USoQ4a3gHAgfmPPULP3K4zUVu4/F4POoXLZfLaD+ZTKJ9s9mM9lVV8/k82k+n02jfarWi/Z9orV9hBAAjABgBwAgARgAwAoARAIwAYAQAIwA00rujy+USfeDt7S3aj0ajaH+73aJ9VdV2u432q9Uq2g+Hw2jvSQAwAoARAIwAYAQAIwAYAcAIAEYAMAKAEQDiP+18f39H+5+fn2i/WCyi/dPTU7SvqhqPx9Heu6P/gBEAjABgBAAjABgBwAgARgAwAoARAIwAEN8d7Xa7aP/6+hrtO51OtO92u9G+qur9/T3aHw6H+BsJTwKAEQCMAGAEACMAGAHACABGADACgBEAjABgBID4Au/5+Tnan06naH88HqP9y8tLtK+qut/v0b7dbsffSHgSAIwAYAQAIwAYAcAIAEYAMAKAEQCMAGAEgPjuqN/vR/v9fh/t1+t1tP+X99Y3m020//j4iL+R8CQAGAHACABGADACgBEAjABgBAAjABgBwAgA8YPl5/M5+kD6ANP1eo32g8Eg2ldVNRqNaP/19RXte71etPckABgBwAgARgAwAoARAIwAYAQAIwAYAcAIAPH/jtJHnj4/P6P9bDaL9s1m/BPiR9HTu6CUJwHACABGADACgBEAjABgBAAjABgBwAgARgD4CzcvUuTDxdLYAAAAAElFTkSuQmCC\" y=\"-125.010533\"/>\r\n   </g>\r\n   <g id=\"matplotlib.axis_13\"/>\r\n   <g id=\"matplotlib.axis_14\"/>\r\n   <g id=\"patch_33\">\r\n    <path d=\"M 126.148276 222.010533 \r\nL 126.148276 125.803636 \r\n\" style=\"fill:none;stroke:#ffffff;stroke-linecap:square;stroke-linejoin:miter;\"/>\r\n   </g>\r\n   <g id=\"patch_34\">\r\n    <path d=\"M 222.355172 222.010533 \r\nL 222.355172 125.803636 \r\n\" style=\"fill:none;stroke:#ffffff;stroke-linecap:square;stroke-linejoin:miter;\"/>\r\n   </g>\r\n   <g id=\"patch_35\">\r\n    <path d=\"M 126.148276 222.010533 \r\nL 222.355172 222.010533 \r\n\" style=\"fill:none;stroke:#ffffff;stroke-linecap:square;stroke-linejoin:miter;\"/>\r\n   </g>\r\n   <g id=\"patch_36\">\r\n    <path d=\"M 126.148276 125.803636 \r\nL 222.355172 125.803636 \r\n\" style=\"fill:none;stroke:#ffffff;stroke-linecap:square;stroke-linejoin:miter;\"/>\r\n   </g>\r\n  </g>\r\n  <g id=\"axes_8\">\r\n   <g id=\"patch_37\">\r\n    <path d=\"M 241.596552 222.010533 \r\nL 337.803448 222.010533 \r\nL 337.803448 125.803636 \r\nL 241.596552 125.803636 \r\nz\r\n\" style=\"fill:#e5e5e5;\"/>\r\n   </g>\r\n   <g clip-path=\"url(#p3a4c07c426)\">\r\n    <image height=\"97\" id=\"image13a9f9e6c2\" transform=\"scale(1 -1)translate(0 -97)\" width=\"97\" x=\"241.596552\" xlink:href=\"data:image/png;base64,\r\niVBORw0KGgoAAAANSUhEUgAAAGEAAABhCAYAAADGBs+jAAACKklEQVR4nO3cLW6qURhF4ReCoxOogQnAFKpJajoCYBJI8BhGUFdRRV3TNAhcRX2TOhI0QfAjGgSdwt2iyUruevSGTyyOOQEa1+v1Wn/o5+cn2k+n02j/9vYW7auqXl9fo32n04mfkWj+6bvrnxgBwAgARgAwAoARAIwAYAQAIwAYAcAIAK306mi/30f7zWYT7VutVrTfbrfRvqrq+/s72nt39B8wAoARAIwAYAQAIwAYAcAIAEYAMAKAEQCyi5qqenp6ivbPz8/R/ng8RvvD4RDtq6oWi0W07/f70f729jbaexIAjABgBAAjABgBwAgARgAwAoARAIwAYASAVqPRiF7w9fUV7T8/P6P9cDiM9ulv4qqq1ut1tH9/f4/24/E42nsSAIwAYAQAIwAYAcAIAEYAMAKAEQCMAGAEACMAxF/+GgwG0f7x8THa393dRfterxftq6pWq1W0P51O8TMSngQAIwAYAcAIAEYAMAKAEQCMAGAEACMAGAGgkf5h+fl8jh7w8PAQ7dP3n81m0b6qarfbRfv0h4Dp/ZcnAcAIAEYAMAKAEQCMAGAEACMAGAHACABGAIjvjlIfHx/R/v7+PtqPRqNoX1U1mUyifbvdjvY3NzfR3pMAYAQAIwAYAcAIAEYAMAKAEQCMAGAEACMA/Pnd0eVyifbz+Tzav7y8RPuqquVyGe273W60bzazz7YnAcAIAEYAMAKAEQCMAGAEACMAGAHACABGAPgFfCpmAcnkBXkAAAAASUVORK5CYII=\" y=\"-125.010533\"/>\r\n   </g>\r\n   <g id=\"matplotlib.axis_15\"/>\r\n   <g id=\"matplotlib.axis_16\"/>\r\n   <g id=\"patch_38\">\r\n    <path d=\"M 241.596552 222.010533 \r\nL 241.596552 125.803636 \r\n\" style=\"fill:none;stroke:#ffffff;stroke-linecap:square;stroke-linejoin:miter;\"/>\r\n   </g>\r\n   <g id=\"patch_39\">\r\n    <path d=\"M 337.803448 222.010533 \r\nL 337.803448 125.803636 \r\n\" style=\"fill:none;stroke:#ffffff;stroke-linecap:square;stroke-linejoin:miter;\"/>\r\n   </g>\r\n   <g id=\"patch_40\">\r\n    <path d=\"M 241.596552 222.010533 \r\nL 337.803448 222.010533 \r\n\" style=\"fill:none;stroke:#ffffff;stroke-linecap:square;stroke-linejoin:miter;\"/>\r\n   </g>\r\n   <g id=\"patch_41\">\r\n    <path d=\"M 241.596552 125.803636 \r\nL 337.803448 125.803636 \r\n\" style=\"fill:none;stroke:#ffffff;stroke-linecap:square;stroke-linejoin:miter;\"/>\r\n   </g>\r\n  </g>\r\n  <g id=\"axes_9\">\r\n   <g id=\"patch_42\">\r\n    <path d=\"M 357.044828 222.010533 \r\nL 453.251724 222.010533 \r\nL 453.251724 125.803636 \r\nL 357.044828 125.803636 \r\nz\r\n\" style=\"fill:#e5e5e5;\"/>\r\n   </g>\r\n   <g clip-path=\"url(#pe75968f127)\">\r\n    <image height=\"97\" id=\"imagecc76c35c98\" transform=\"scale(1 -1)translate(0 -97)\" width=\"97\" x=\"357.044828\" xlink:href=\"data:image/png;base64,\r\niVBORw0KGgoAAAANSUhEUgAAAGEAAABhCAYAAADGBs+jAAACDklEQVR4nO3cIYryURhG8Xc+BoswOCKYHNBiFZvBHdhFcAe6klnETLYbjGJ0K4KICBbBbw3PgHDC+eXnnw63XK6+PZ/PZwUul0syr8ViEe13u120b7Va0b6qqt1uR/vpdBrtV6tVtP8XrfUSRgAwAoARAIwAYAQAIwAYAcAIAEYAMALAe/rB4/GI9vf7Pdp/fHxE+6+vr2hfVdVsNqN9t9uN9oPBINp7EgCMAGAEACMAGAHACABGADACgBEAjABgBIC39N1ReneUviP6/v6O9pPJJNpXVS2Xy2jf6/WiffoWypMAYAQAIwAYAcAIAEYAMAKAEQCMAGAEACMAxO+O3t+zT0ajUbTvdDrR/ng8RvuqqvV6He3/8ru4hCcBwAgARgAwAoARAIwAYAQAIwAYAcAIAEYAMAJAfIGX/unU6XSK9uPxONr//v5G+6qq8/kc7dPHXylPAoARAIwAYAQAIwAYAcAIAEYAMAKAEQCMABDfHe33+2h/OByifb/fj/aNRiPaV1Vdr9f4m1fyJAAYAcAIAEYAMAKAEQCMAGAEACMAGAHACADx3dHtdov2Pz8/0f7z8/Ol+6q/3Te9kicBwAgARgAwAoARAIwAYAQAIwAYAcAIAEYAiO+OZrNZtN9sNtF+u91G+/l8Hu2rqobDYfzNK3kSAIwAYAQAIwAYAcAIAEYAMAKAEQCMAGAEgP95JESS/58MbQAAAABJRU5ErkJggg==\" y=\"-125.010533\"/>\r\n   </g>\r\n   <g id=\"matplotlib.axis_17\"/>\r\n   <g id=\"matplotlib.axis_18\"/>\r\n   <g id=\"patch_43\">\r\n    <path d=\"M 357.044828 222.010533 \r\nL 357.044828 125.803636 \r\n\" style=\"fill:none;stroke:#ffffff;stroke-linecap:square;stroke-linejoin:miter;\"/>\r\n   </g>\r\n   <g id=\"patch_44\">\r\n    <path d=\"M 453.251724 222.010533 \r\nL 453.251724 125.803636 \r\n\" style=\"fill:none;stroke:#ffffff;stroke-linecap:square;stroke-linejoin:miter;\"/>\r\n   </g>\r\n   <g id=\"patch_45\">\r\n    <path d=\"M 357.044828 222.010533 \r\nL 453.251724 222.010533 \r\n\" style=\"fill:none;stroke:#ffffff;stroke-linecap:square;stroke-linejoin:miter;\"/>\r\n   </g>\r\n   <g id=\"patch_46\">\r\n    <path d=\"M 357.044828 125.803636 \r\nL 453.251724 125.803636 \r\n\" style=\"fill:none;stroke:#ffffff;stroke-linecap:square;stroke-linejoin:miter;\"/>\r\n   </g>\r\n  </g>\r\n  <g id=\"axes_10\">\r\n   <g id=\"patch_47\">\r\n    <path d=\"M 472.493103 222.010533 \r\nL 568.7 222.010533 \r\nL 568.7 125.803636 \r\nL 472.493103 125.803636 \r\nz\r\n\" style=\"fill:#e5e5e5;\"/>\r\n   </g>\r\n   <g clip-path=\"url(#p4278c02853)\">\r\n    <image height=\"97\" id=\"image4157388fc6\" transform=\"scale(1 -1)translate(0 -97)\" width=\"97\" x=\"472.493103\" xlink:href=\"data:image/png;base64,\r\niVBORw0KGgoAAAANSUhEUgAAAGEAAABhCAYAAADGBs+jAAACLklEQVR4nO3cr2oqYByH8Z9nYzCLRdkdDCwuaHFgWvFOdgGLZvMwiqBhxWo1rq+OBZthYWEgFss8t3C+YfDAeT756x94eMsb3sb5fD5X4OfnJ5nXarWK9s/Pz9H+5eUl2ldV9Xq9aH9xcRH/RuLPr367/okRAIwAYAQAIwAYAcAIAEYAMAKAEQCMAHCZfqDRaET74XAY7WezWbTfbrfRvqqq2+1Ge++O/gNGADACgBEAjABgBAAjABgBwAgARgAwAkB8d3Q4HKL9x8dHtG+329F+s9lE+6qqwWAQ7e/v76P99fV1tPckABgBwAgARgAwAoARAIwAYAQAIwAYAcAIAPHd0el0ivavr6/Rfr/fR/vdbhftq6qm02m0n0wm0f7h4SHaexIAjABgBAAjABgBwAgARgAwAoARAIwAYAQAIwDEF3hXV1fRfjQaRfvb29tov1gson1V1efnZ7T//v6OfyPhSQAwAoARAIwAYAQAIwAYAcAIAEYAMAKAEQDiu6P0wfLj8Rjtx+NxtE//T1XVcrmM9jc3N9E+fAPek0BgBAAjABgBwAgARgAwAoARAIwAYAQAIwD8+oPl6/U62s/n82jf6XSifVXV19dXtH9/f4/2/X4/2nsSAIwAYAQAIwAYAcAIAEYAMAKAEQCMAGAEgPjuqNVqRfvHx8do//T0FO3f3t6ifVXV3d1dtG82m9E+fZjLkwBgBAAjABgBwAgARgAwAoARAIwAYAQAIwD8BTLuVBPzA7k2AAAAAElFTkSuQmCC\" y=\"-125.010533\"/>\r\n   </g>\r\n   <g id=\"matplotlib.axis_19\"/>\r\n   <g id=\"matplotlib.axis_20\"/>\r\n   <g id=\"patch_48\">\r\n    <path d=\"M 472.493103 222.010533 \r\nL 472.493103 125.803636 \r\n\" style=\"fill:none;stroke:#ffffff;stroke-linecap:square;stroke-linejoin:miter;\"/>\r\n   </g>\r\n   <g id=\"patch_49\">\r\n    <path d=\"M 568.7 222.010533 \r\nL 568.7 125.803636 \r\n\" style=\"fill:none;stroke:#ffffff;stroke-linecap:square;stroke-linejoin:miter;\"/>\r\n   </g>\r\n   <g id=\"patch_50\">\r\n    <path d=\"M 472.493103 222.010533 \r\nL 568.7 222.010533 \r\n\" style=\"fill:none;stroke:#ffffff;stroke-linecap:square;stroke-linejoin:miter;\"/>\r\n   </g>\r\n   <g id=\"patch_51\">\r\n    <path d=\"M 472.493103 125.803636 \r\nL 568.7 125.803636 \r\n\" style=\"fill:none;stroke:#ffffff;stroke-linecap:square;stroke-linejoin:miter;\"/>\r\n   </g>\r\n  </g>\r\n </g>\r\n <defs>\r\n  <clipPath id=\"p40dd5394d8\">\r\n   <rect height=\"96.206897\" width=\"96.206897\" x=\"10.7\" y=\"7.2\"/>\r\n  </clipPath>\r\n  <clipPath id=\"p6d5e0a20c7\">\r\n   <rect height=\"96.206897\" width=\"96.206897\" x=\"126.148276\" y=\"7.2\"/>\r\n  </clipPath>\r\n  <clipPath id=\"p857184722e\">\r\n   <rect height=\"96.206897\" width=\"96.206897\" x=\"241.596552\" y=\"7.2\"/>\r\n  </clipPath>\r\n  <clipPath id=\"pdb991a0180\">\r\n   <rect height=\"96.206897\" width=\"96.206897\" x=\"357.044828\" y=\"7.2\"/>\r\n  </clipPath>\r\n  <clipPath id=\"p40d7acd932\">\r\n   <rect height=\"96.206897\" width=\"96.206897\" x=\"472.493103\" y=\"7.2\"/>\r\n  </clipPath>\r\n  <clipPath id=\"p8f3c3c2895\">\r\n   <rect height=\"96.206897\" width=\"96.206897\" x=\"10.7\" y=\"125.803636\"/>\r\n  </clipPath>\r\n  <clipPath id=\"p7aaf6bd82c\">\r\n   <rect height=\"96.206897\" width=\"96.206897\" x=\"126.148276\" y=\"125.803636\"/>\r\n  </clipPath>\r\n  <clipPath id=\"p3a4c07c426\">\r\n   <rect height=\"96.206897\" width=\"96.206897\" x=\"241.596552\" y=\"125.803636\"/>\r\n  </clipPath>\r\n  <clipPath id=\"pe75968f127\">\r\n   <rect height=\"96.206897\" width=\"96.206897\" x=\"357.044828\" y=\"125.803636\"/>\r\n  </clipPath>\r\n  <clipPath id=\"p4278c02853\">\r\n   <rect height=\"96.206897\" width=\"96.206897\" x=\"472.493103\" y=\"125.803636\"/>\r\n  </clipPath>\r\n </defs>\r\n</svg>\r\n",
      "image/png": "[encoded data removed]"
     },
     "metadata": {}
    }
   ],
   "source": [
    "import matplotlib.pyplot as plt\n",
    "plt.style.use('ggplot')\n",
    "%matplotlib inline\n",
    "fig, ax = plt.subplots(2, 5, figsize=(10, 4))\n",
    "centers = centers.reshape(10, 8, 8)\n",
    "for axi, center in zip(ax.flat, centers):\n",
    "    axi.set(xticks=[], yticks=[])\n",
    "    axi.imshow(center, interpolation='nearest', cmap=plt.cm.binary)\n",
    "plt.savefig('digits.png')"
   ]
  },
  {
   "source": [
    "值得注意的是，k-均值不仅能够把数字图像划分为任意10个随机簇，还能够划分为0~9的数字！为了找出哪些图像分组成了哪些簇，我们需要生成一个labels向量，正如我们在监督学习问题中所学习的："
   ],
   "cell_type": "markdown",
   "metadata": {}
  },
  {
   "cell_type": "code",
   "execution_count": 5,
   "metadata": {},
   "outputs": [],
   "source": [
    "from scipy.stats import mode\n",
    "\n",
    "labels = np.zeros_like(clusters.ravel())\n",
    "for i in range(10):\n",
    "    mask = (clusters.ravel() == i)\n",
    "    labels[mask] = mode(digits.target[mask])[0]"
   ]
  },
  {
   "source": [
    "使用scikit-learn的accuracy_score评估指标计算算法的性能："
   ],
   "cell_type": "markdown",
   "metadata": {}
  },
  {
   "cell_type": "code",
   "execution_count": 6,
   "metadata": {},
   "outputs": [
    {
     "output_type": "execute_result",
     "data": {
      "text/plain": [
       "0.7846410684474123"
      ]
     },
     "metadata": {},
     "execution_count": 6
    }
   ],
   "source": [
    "from sklearn.metrics import accuracy_score\n",
    "accuracy_score(digits.target, labels)"
   ]
  },
  {
   "source": [
    "通过观察混淆矩阵，我们可以更深入地了解哪里出了问题，以及是如何出错的。混淆矩阵是一个二维矩阵C，其中每个元素Ci, j等于已知在第i组（或簇）中，但是却预测为在第j组中的观察数。因此，矩阵对角线上的所有元素表示已经正确分类的数据点（即已知在第i组，预测也在第i组）。非对角线上的元素表示错误分类的数据点。\n",
    "\n",
    "在scikit-learn中，创建一个混淆矩阵基本上只需一行代码："
   ],
   "cell_type": "markdown",
   "metadata": {}
  },
  {
   "cell_type": "code",
   "execution_count": 7,
   "metadata": {},
   "outputs": [
    {
     "output_type": "execute_result",
     "data": {
      "text/plain": [
       "array([[177,   0,   0,   0,   1,   0,   0,   0,   0,   0],\n",
       "       [  0, 154,  25,   0,   0,   1,   2,   0,   0,   0],\n",
       "       [  1,   3, 147,  11,   0,   0,   0,   3,  12,   0],\n",
       "       [  0,   1,   2, 159,   0,   2,   0,   9,  10,   0],\n",
       "       [  0,  12,   0,   0, 162,   0,   0,   5,   2,   0],\n",
       "       [  0,   0,   0,  40,   2, 138,   2,   0,   0,   0],\n",
       "       [  1,   2,   0,   0,   0,   0, 177,   0,   1,   0],\n",
       "       [  0,  14,   0,   0,   0,   0,   0, 164,   1,   0],\n",
       "       [  0,  23,   3,   8,   0,   5,   1,   2, 132,   0],\n",
       "       [  0,  21,   0, 145,   0,   5,   0,   8,   1,   0]], dtype=int64)"
      ]
     },
     "metadata": {},
     "execution_count": 7
    }
   ],
   "source": [
    "from sklearn.metrics import confusion_matrix\n",
    "confusion_matrix(digits.target, labels)"
   ]
  },
  {
   "source": [
    "混淆矩阵告诉我们k-均值对前9个类中数据点的分类任务完成得很好；但是，却把所有的9和3弄混了。尽管如此，这个结果还是相当可靠的，因为算法不需要训练的目标标签。"
   ],
   "cell_type": "markdown",
   "metadata": {}
  }
 ]
}